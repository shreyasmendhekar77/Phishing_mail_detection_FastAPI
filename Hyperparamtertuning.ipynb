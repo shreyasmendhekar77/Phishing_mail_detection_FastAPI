{
 "cells": [
  {
   "cell_type": "markdown",
   "id": "ba0dcd08",
   "metadata": {},
   "source": [
    "# Hyperparamter tunning of classification models"
   ]
  },
  {
   "cell_type": "code",
   "execution_count": 17,
   "id": "2b34ec57",
   "metadata": {},
   "outputs": [],
   "source": [
    "import pandas as pd\n",
    "import numpy as np\n",
    "import mlflow\n",
    "from sklearn.model_selection import train_test_split,GridSearchCV\n",
    "from sklearn.metrics import classification_report\n",
    "from sklearn.tree import DecisionTreeClassifier\n",
    "from sklearn.ensemble import RandomForestClassifier\n",
    "from sklearn.neighbors import KNeighborsClassifier\n",
    "from sklearn.linear_model import LogisticRegression\n",
    "from sklearn.svm import SVC\n",
    "from xgboost import XGBClassifier\n",
    "import mlflow.sklearn\n"
   ]
  },
  {
   "cell_type": "code",
   "execution_count": 19,
   "id": "f1238f3d",
   "metadata": {},
   "outputs": [
    {
     "data": {
      "text/html": [
       "<div>\n",
       "<style scoped>\n",
       "    .dataframe tbody tr th:only-of-type {\n",
       "        vertical-align: middle;\n",
       "    }\n",
       "\n",
       "    .dataframe tbody tr th {\n",
       "        vertical-align: top;\n",
       "    }\n",
       "\n",
       "    .dataframe thead th {\n",
       "        text-align: right;\n",
       "    }\n",
       "</style>\n",
       "<table border=\"1\" class=\"dataframe\">\n",
       "  <thead>\n",
       "    <tr style=\"text-align: right;\">\n",
       "      <th></th>\n",
       "      <th>Unnamed: 0.1</th>\n",
       "      <th>Unnamed: 0</th>\n",
       "      <th>Email Text</th>\n",
       "      <th>Email Type</th>\n",
       "      <th>tokens</th>\n",
       "      <th>Vector Embedding of email</th>\n",
       "      <th>Email Type-safe-1_phishing-0</th>\n",
       "    </tr>\n",
       "  </thead>\n",
       "  <tbody>\n",
       "    <tr>\n",
       "      <th>0</th>\n",
       "      <td>0</td>\n",
       "      <td>0</td>\n",
       "      <td>re : 6 . 1100 , disc : uniformitarianism , re ...</td>\n",
       "      <td>Safe Email</td>\n",
       "      <td>['disc', 'uniformitarian', 'sex', 'lang', 'dic...</td>\n",
       "      <td>[-0.61649567  0.25818726  0.17109154  0.128515...</td>\n",
       "      <td>0.0</td>\n",
       "    </tr>\n",
       "    <tr>\n",
       "      <th>1</th>\n",
       "      <td>1</td>\n",
       "      <td>1</td>\n",
       "      <td>the other side of * galicismos * * galicismo *...</td>\n",
       "      <td>Safe Email</td>\n",
       "      <td>['side', 'galicismo', 'galicismo', 'spanish', ...</td>\n",
       "      <td>[-0.5681039   0.6127583   0.2330573   0.211814...</td>\n",
       "      <td>0.0</td>\n",
       "    </tr>\n",
       "    <tr>\n",
       "      <th>2</th>\n",
       "      <td>2</td>\n",
       "      <td>2</td>\n",
       "      <td>re : equistar deal tickets are you still avail...</td>\n",
       "      <td>Safe Email</td>\n",
       "      <td>['equistar', 'deal', 'ticket', 'still', 'avail...</td>\n",
       "      <td>[-0.9742371   1.0548856  -0.54743606  1.571211...</td>\n",
       "      <td>0.0</td>\n",
       "    </tr>\n",
       "    <tr>\n",
       "      <th>3</th>\n",
       "      <td>3</td>\n",
       "      <td>3</td>\n",
       "      <td>\\nHello I am your hot lil horny toy.\\n    I am...</td>\n",
       "      <td>Phishing Email</td>\n",
       "      <td>['hello', 'hot', 'lil', 'horni', 'toy', 'one',...</td>\n",
       "      <td>[-0.4513623   0.18623553 -0.7155887   0.262897...</td>\n",
       "      <td>1.0</td>\n",
       "    </tr>\n",
       "    <tr>\n",
       "      <th>4</th>\n",
       "      <td>4</td>\n",
       "      <td>4</td>\n",
       "      <td>software at incredibly low prices ( 86 % lower...</td>\n",
       "      <td>Phishing Email</td>\n",
       "      <td>['softwar', 'incred', 'low', 'price', 'lower',...</td>\n",
       "      <td>[-0.5307388   0.46321097  0.0438407   0.460156...</td>\n",
       "      <td>1.0</td>\n",
       "    </tr>\n",
       "  </tbody>\n",
       "</table>\n",
       "</div>"
      ],
      "text/plain": [
       "   Unnamed: 0.1  Unnamed: 0  \\\n",
       "0             0           0   \n",
       "1             1           1   \n",
       "2             2           2   \n",
       "3             3           3   \n",
       "4             4           4   \n",
       "\n",
       "                                          Email Text      Email Type  \\\n",
       "0  re : 6 . 1100 , disc : uniformitarianism , re ...      Safe Email   \n",
       "1  the other side of * galicismos * * galicismo *...      Safe Email   \n",
       "2  re : equistar deal tickets are you still avail...      Safe Email   \n",
       "3  \\nHello I am your hot lil horny toy.\\n    I am...  Phishing Email   \n",
       "4  software at incredibly low prices ( 86 % lower...  Phishing Email   \n",
       "\n",
       "                                              tokens  \\\n",
       "0  ['disc', 'uniformitarian', 'sex', 'lang', 'dic...   \n",
       "1  ['side', 'galicismo', 'galicismo', 'spanish', ...   \n",
       "2  ['equistar', 'deal', 'ticket', 'still', 'avail...   \n",
       "3  ['hello', 'hot', 'lil', 'horni', 'toy', 'one',...   \n",
       "4  ['softwar', 'incred', 'low', 'price', 'lower',...   \n",
       "\n",
       "                           Vector Embedding of email  \\\n",
       "0  [-0.61649567  0.25818726  0.17109154  0.128515...   \n",
       "1  [-0.5681039   0.6127583   0.2330573   0.211814...   \n",
       "2  [-0.9742371   1.0548856  -0.54743606  1.571211...   \n",
       "3  [-0.4513623   0.18623553 -0.7155887   0.262897...   \n",
       "4  [-0.5307388   0.46321097  0.0438407   0.460156...   \n",
       "\n",
       "   Email Type-safe-1_phishing-0  \n",
       "0                           0.0  \n",
       "1                           0.0  \n",
       "2                           0.0  \n",
       "3                           1.0  \n",
       "4                           1.0  "
      ]
     },
     "execution_count": 19,
     "metadata": {},
     "output_type": "execute_result"
    }
   ],
   "source": [
    "data=pd.read_csv('Processed_data.csv')\n",
    "data.head()"
   ]
  },
  {
   "cell_type": "code",
   "execution_count": 8,
   "id": "b4dffbc6",
   "metadata": {},
   "outputs": [],
   "source": [
    "feature=data['Vector Embedding of email']\n",
    "target=data['Email Type-safe-1_phishing-0']"
   ]
  },
  {
   "cell_type": "code",
   "execution_count": 15,
   "id": "fe792157",
   "metadata": {},
   "outputs": [
    {
     "data": {
      "text/plain": [
       "pandas.core.series.Series"
      ]
     },
     "execution_count": 15,
     "metadata": {},
     "output_type": "execute_result"
    }
   ],
   "source": [
    "type(feature)"
   ]
  },
  {
   "cell_type": "code",
   "execution_count": 16,
   "id": "acd14666",
   "metadata": {},
   "outputs": [
    {
     "name": "stdout",
     "output_type": "stream",
     "text": [
      "<class 'pandas.core.frame.DataFrame'>\n",
      "RangeIndex: 18650 entries, 0 to 18649\n",
      "Data columns (total 7 columns):\n",
      " #   Column                        Non-Null Count  Dtype  \n",
      "---  ------                        --------------  -----  \n",
      " 0   Unnamed: 0.1                  18650 non-null  int64  \n",
      " 1   Unnamed: 0                    18650 non-null  int64  \n",
      " 2   Email Text                    18634 non-null  object \n",
      " 3   Email Type                    18650 non-null  object \n",
      " 4   tokens                        18650 non-null  object \n",
      " 5   Vector Embedding of email     18650 non-null  object \n",
      " 6   Email Type-safe-1_phishing-0  18650 non-null  float64\n",
      "dtypes: float64(1), int64(2), object(4)\n",
      "memory usage: 1020.0+ KB\n"
     ]
    }
   ],
   "source": [
    "data.info()"
   ]
  },
  {
   "cell_type": "code",
   "execution_count": 20,
   "id": "f8a74614",
   "metadata": {},
   "outputs": [],
   "source": [
    "X_train,X_test,y_train,y_test=train_test_split(feature,target,train_size=0.8,shuffle=True)"
   ]
  },
  {
   "cell_type": "code",
   "execution_count": 21,
   "id": "455974c7",
   "metadata": {},
   "outputs": [],
   "source": [
    "X_train = np.vstack(X_train)\n",
    "X_test= np.vstack(X_test)"
   ]
  },
  {
   "cell_type": "code",
   "execution_count": 23,
   "id": "deb4d217",
   "metadata": {},
   "outputs": [
    {
     "data": {
      "text/plain": [
       "array([['[-3.16624679e-02  6.53337464e-02  4.72871698e-02  2.64448486e-02\\n  1.59126148e-02 -1.18470065e-01  3.39462259e-03  1.86585903e-01\\n -6.13761656e-02 -5.31587489e-02 -3.31352241e-02 -1.69700384e-01\\n  1.83163993e-02  3.10241058e-02  2.36345530e-02 -5.42516373e-02\\n  2.18260456e-02 -9.00781527e-02  1.54321147e-02 -1.57197148e-01\\n  1.18429298e-02  6.47387058e-02  7.32443482e-02 -3.80640291e-02\\n  4.14731316e-02  9.16072875e-02 -1.09306417e-01 -8.13231617e-02\\n -4.40938538e-03 -8.99652077e-05  1.53116077e-01 -2.60126665e-02\\n -1.76730398e-02 -8.26142877e-02 -4.05468270e-02  1.05806679e-01\\n -4.22410332e-02 -1.09906591e-01 -1.85030755e-02 -1.75966278e-01\\n -4.85959724e-02 -1.06564924e-01 -2.81091761e-02  1.68719550e-03\\n  7.68014137e-03 -6.19604364e-02 -9.70248729e-02 -1.07784709e-02\\n  1.66096364e-03  8.94314796e-02  1.13740608e-01 -8.95668566e-02\\n -4.16343734e-02 -2.71736197e-02 -1.18046114e-02  6.26112744e-02\\n  4.64114957e-02  2.83404030e-02 -9.43411365e-02  1.58914663e-02\\n -2.57365573e-02  4.45792265e-02 -7.07509518e-02  7.17954561e-02\\n -6.39057457e-02  6.84024766e-02  1.70088243e-02  1.12497136e-01\\n -8.59777182e-02  1.48523182e-01 -5.78975454e-02  5.14274649e-02\\n  1.43782079e-01 -1.45303318e-02  9.25604627e-02  4.80455235e-02\\n  1.04154386e-02 -2.05406286e-02 -3.65987271e-02  6.98118210e-02\\n -1.05443463e-01 -3.82431448e-02 -6.18425570e-02  1.67829722e-01\\n -8.39904323e-03 -1.22153107e-02  2.51791552e-02  6.32814839e-02\\n  1.02242164e-01  2.19295863e-02  1.63416058e-01  7.52864107e-02\\n  3.35449874e-02 -2.22749487e-02  5.99849969e-02  9.89245102e-02\\n  6.32326081e-02 -1.56048730e-01 -1.56286154e-02  2.47969329e-02]'],\n",
       "       ['[-1.0029073e+00  8.8853776e-01 -2.4769243e-02  7.8117758e-01\\n  9.6575075e-01 -9.1444749e-01  7.1214288e-01 -4.3168396e-01\\n -6.8553096e-01 -2.1547255e-01  3.1763494e-01 -9.0385163e-01\\n  2.4164084e-01  3.3766320e-01  5.7023203e-01 -6.2634975e-01\\n -2.4563704e-01 -7.9826641e-01 -4.2668402e-02 -2.0210339e-01\\n  4.6459100e-01  8.1599116e-01  7.2683883e-01 -3.5321566e-01\\n  8.7221770e-04 -4.6779636e-01 -7.3116636e-03 -7.0239323e-01\\n -5.6381929e-01 -6.0463917e-01  3.5441309e-01  1.5945037e-01\\n -1.0040147e+00  3.2199097e-01 -9.2166084e-01  1.5649282e+00\\n -2.8309280e-01  4.7060281e-01  1.3920849e-03 -5.6425351e-01\\n  6.5291429e-01 -6.5227479e-01 -6.9417691e-01  6.8005425e-01\\n -2.6693055e-01  6.3041502e-01  1.7302513e-01 -1.7721850e-01\\n  1.3209921e+00  7.5906944e-01  4.4907075e-01 -1.2891148e+00\\n  6.3232347e-02 -1.8180284e-01 -5.5433774e-01  5.4132557e-01\\n  8.8230443e-01 -3.5851493e-01 -2.8246909e-01  8.4926352e-02\\n  6.5223950e-01 -1.6483490e-01 -2.8835472e-01 -1.0671626e+00\\n -1.7857529e-01 -7.8602679e-02 -5.2528912e-01 -5.0489324e-01\\n -6.1630815e-01 -5.0590187e-01 -1.0386784e+00 -5.0856978e-01\\n  7.2184193e-01  6.6940570e-01  1.4280425e-01 -4.1072476e-01\\n -8.9693666e-01  5.3856883e-02 -1.0139569e+00 -1.0040079e-01\\n -4.0685785e-01  5.2238978e-02 -9.5747180e-02 -6.4223152e-01\\n  6.3010186e-01 -9.8657447e-01 -4.1726735e-01  6.7940056e-01\\n  2.4993280e-01  2.2818981e-01 -1.3673793e+00  6.2274361e-01\\n -4.1997588e-01 -2.5480973e-02  1.1730034e+00  2.3015083e-01\\n  7.3080546e-01 -7.0206952e-01  2.0442401e-01  6.2431961e-01]'],\n",
       "       ['[-0.6960647   0.12921545 -0.8764827   0.42704597  1.0264647  -1.4943496\\n  0.07092449  0.82940584 -0.7236507  -0.5532016  -0.14034666 -0.5969021\\n  0.5586242   0.40958768  0.07721148 -0.1435531  -0.17080843 -0.03917657\\n  0.3049826  -0.3918919   0.6009046   1.0077226   0.53357625 -1.4910841\\n  0.472165   -1.0437056  -0.2452009  -0.25303158 -1.0314999  -0.21640608\\n  0.89918935  0.5461837  -1.0099692   0.8171158  -0.5130469   0.98600286\\n -0.4362169  -0.31821564 -0.2678487  -1.1676884  -0.46919897 -0.8278533\\n -0.8814656   1.315448    0.9216117   0.4383879   0.00739526  0.0320095\\n  1.5162749   0.764881    0.152975   -1.2130624   0.4841314  -0.34243208\\n -0.457242    1.0102607   0.10185747 -0.43353     0.96072125  0.1353458\\n  1.1157839   0.14790636  0.2650083  -1.4222437  -1.0104933  -0.09758429\\n -1.3504969  -0.78401893 -1.0956612  -0.226738    0.04578543 -0.69196236\\n  0.73030436  0.19096038  0.20353135 -0.9419327  -0.8145278  -0.36462533\\n -1.3124536  -1.1301819  -0.52030456  0.55590546 -1.6733109  -0.30935746\\n  0.51405346 -0.9680492  -0.9663558   0.01281416  0.6900248  -0.27961624\\n -1.6053615   0.753695   -0.24051334  0.5962246   1.5191118   0.02592745\\n  1.2437987  -1.416809   -0.30717754  0.22175615]'],\n",
       "       ...,\n",
       "       ['[-0.48768634  0.40373766  0.38124213  0.41955733  0.3241625  -0.7261004\\n  0.0870332   0.24499659 -0.30500537  0.38955396 -0.16774264 -0.35388562\\n -0.0570254   0.6359375  -0.17161813 -0.78420466  0.26821128 -0.2945269\\n -0.1016027  -0.40038106  0.09362356  0.57845277  0.5604828  -0.42632875\\n -0.4669363  -0.32283193 -0.11385489 -0.18817069 -0.53930163 -0.31950238\\n -0.0486562   0.17526689 -0.1574135   0.23813471 -0.23540199  0.47921062\\n -0.1714934  -0.38606688 -0.27804348 -0.7350625  -0.05522875 -0.17966938\\n  0.1855903   0.09122472  0.5610936   0.2636366  -0.40148562  0.18738776\\n  0.38423383  0.38829577 -0.25282332 -0.5989908   0.19487682 -0.04412983\\n -0.7901213   0.16685516  0.22203994 -0.32399997 -0.09833981 -0.26104802\\n  0.73851633  0.05766922 -0.21452652 -0.73358554 -0.42993838  0.18242028\\n -0.57148784 -0.19347814 -0.7057348   0.09826103 -0.38061687 -0.10126214\\n  0.40042353 -0.09298849  0.05969992 -0.07181153 -0.3362481   0.3354937\\n -0.43717104 -0.20917316 -0.06122443 -0.34733117 -0.69364035  0.41317788\\n  0.5063766  -0.35661256 -0.19268946  0.48219258  0.12179846  0.45757613\\n -0.3675762  -0.06531045 -0.01001105  0.10006133  0.98454046  0.30457908\\n  0.11188366 -0.46195242  0.1618      0.05826321]'],\n",
       "       ['[ 0.03676131 -0.05129929 -0.18377556  0.03286965  0.5891059  -0.8774254\\n -0.18188965  0.5933217  -0.4466573  -0.27362686 -0.11406253 -0.14269705\\n  0.18240201  0.2042556  -0.16904293  0.03458003 -0.04399659 -0.30259088\\n  0.31748062 -0.5777246   0.36959207  0.36363688  0.12101578 -0.43216583\\n  0.03871784 -0.21316527 -0.22351249 -0.12218886 -0.10136113 -0.1106341\\n  0.3932614   0.4384949  -0.32314834  0.0337243  -0.01547373  0.35692894\\n -0.10218423 -0.17048089 -0.38334042 -0.6328266  -0.3078699  -0.51416624\\n -0.06925526  0.16434723  0.6691112   0.11591059 -0.10285636 -0.24707086\\n  0.4753325   0.2347968   0.14570312 -0.44413882  0.19201851 -0.03224267\\n  0.0249204   0.39607176 -0.26264226 -0.14536491  0.2583151  -0.03497297\\n  0.65726995  0.29520506 -0.1847449  -0.3822263  -0.35865808  0.03390535\\n -0.6279535  -0.22110729 -0.31882676  0.13799024 -0.0721794  -0.14758603\\n  0.34013128  0.18360627  0.43877944 -0.05777063 -0.3224291  -0.12814946\\n -0.5436439  -0.30958897 -0.26812345 -0.22322643 -0.7694252   0.30710274\\n -0.155965   -0.29082647 -0.05373812  0.3169858   0.11789344  0.00443385\\n -0.24933042  0.0725954   0.24436623  0.3861536   0.34164038  0.36245748\\n  0.33886415 -0.36134118 -0.37357152  0.17634813]'],\n",
       "       ['[-0.78285336  1.0093863   0.25133353  0.45326254  1.2015599  -0.9379429\\n  0.11781963 -0.23299418 -1.0757655   0.42644754 -0.08786283 -0.53324497\\n -0.10974276  0.7254105   0.13405348 -1.099633   -0.19951248 -0.28630084\\n -0.37591782 -0.28177026  0.00902432  1.0239583   0.85449237 -0.7498644\\n  0.22090508 -0.29655176 -0.19749057 -0.6858216  -0.7559996  -0.70910144\\n -0.12022129  0.34761146 -0.7665151   0.32617298 -0.8411185   1.5881487\\n -0.5629489   0.4463744   0.35596597 -1.2329595  -0.22911878 -0.3305529\\n -0.23022823  0.23567803  0.7375968   0.43690905 -0.52812845 -0.2841818\\n  1.0374867   1.2084943   0.33308887 -0.62109274  0.46149242  0.20703925\\n -0.7960544   0.21843897  1.0258814  -0.11354581 -0.1079065  -0.89851123\\n  1.2809042  -0.04253685  0.36404142 -1.1326925  -0.53190523 -0.01934757\\n -0.15155084 -1.0368384  -1.09696    -0.07854096 -0.6242846  -0.5793373\\n  0.48572206  0.4095882  -0.05724008  0.19160192 -0.9097498   0.4074454\\n -0.94241875 -0.35696423 -0.12754934 -0.11650077 -0.6388263  -0.26082203\\n  0.79406434 -0.9638702  -0.23353143  0.97102237  0.22130811  0.8595596\\n -1.1148045   0.03652882 -0.1319788  -0.17065276  1.1939975   0.07639764\\n  0.27900693 -0.46417955  0.04445959  0.31653878]']],\n",
       "      dtype='<U1625')"
      ]
     },
     "execution_count": 23,
     "metadata": {},
     "output_type": "execute_result"
    }
   ],
   "source": [
    "X_train"
   ]
  },
  {
   "cell_type": "code",
   "execution_count": null,
   "id": "f168ccd6",
   "metadata": {},
   "outputs": [
    {
     "data": {
      "text/plain": [
       "(14920, 1)"
      ]
     },
     "execution_count": 22,
     "metadata": {},
     "output_type": "execute_result"
    }
   ],
   "source": [
    " X_train.shape"
   ]
  },
  {
   "cell_type": "markdown",
   "id": "be54254b",
   "metadata": {},
   "source": [
    "# Model with their hyperparamters and name "
   ]
  },
  {
   "cell_type": "code",
   "execution_count": 35,
   "id": "fe625017",
   "metadata": {},
   "outputs": [],
   "source": [
    "models={\n",
    "    # 'XGBoost': {\n",
    "    #     'model': XGBClassifier(use_label_encoder=False, eval_metric='logloss'),\n",
    "    #     'params': {\n",
    "    #         'n_estimators': [50, 100],\n",
    "    #         'max_depth': [3, 5],\n",
    "    #         'learning_rate': [0.1]\n",
    "    #     }\n",
    "    # },\n",
    "    'RandomForest': {\n",
    "        'model': RandomForestClassifier(),\n",
    "        'params': {\n",
    "            'n_estimators': [50, 100],\n",
    "            'max_depth': [4, 8]\n",
    "        }\n",
    "    },\n",
    "    'SVC': {\n",
    "        'model': SVC(),\n",
    "        'params': {\n",
    "            'C': [0.1, 1],\n",
    "            'kernel': ['linear']\n",
    "        }\n",
    "    },\n",
    "    'Decision_Tree':{\n",
    "        'model':DecisionTreeClassifier(),\n",
    "        'params':{\n",
    "            'max_depth':[5,8],\n",
    "        }\n",
    "    },\n",
    "   'LogisticRegression': {\n",
    "        'model': LogisticRegression(max_iter=1000),\n",
    "        'params': {\n",
    "            'C': [0.01, 0.1, 1],\n",
    "            'penalty': ['l2'],\n",
    "            'solver': ['lbfgs']\n",
    "        }\n",
    "    },\n",
    "    'KNN': {\n",
    "        'model': KNeighborsClassifier(),\n",
    "        'params': {\n",
    "            'n_neighbors': [3, 5, 7],\n",
    "            'weights': ['uniform', 'distance']\n",
    "        }\n",
    "    }\n",
    "}"
   ]
  },
  {
   "cell_type": "code",
   "execution_count": null,
   "id": "41259a04",
   "metadata": {},
   "outputs": [
    {
     "ename": "ValueError",
     "evalue": "\nAll the 20 fits failed.\nIt is very likely that your model is misconfigured.\nYou can try to debug the error by setting error_score='raise'.\n\nBelow are more details about the failures:\n--------------------------------------------------------------------------------\n4 fits failed with the following error:\nTraceback (most recent call last):\n  File \"d:\\Model_Deployement\\deploy\\Lib\\site-packages\\sklearn\\model_selection\\_validation.py\", line 859, in _fit_and_score\n    estimator.fit(X_train, y_train, **fit_params)\n  File \"d:\\Model_Deployement\\deploy\\Lib\\site-packages\\sklearn\\base.py\", line 1365, in wrapper\n    return fit_method(estimator, *args, **kwargs)\n           ^^^^^^^^^^^^^^^^^^^^^^^^^^^^^^^^^^^^^^\n  File \"d:\\Model_Deployement\\deploy\\Lib\\site-packages\\sklearn\\ensemble\\_forest.py\", line 359, in fit\n    X, y = validate_data(\n           ^^^^^^^^^^^^^^\n  File \"d:\\Model_Deployement\\deploy\\Lib\\site-packages\\sklearn\\utils\\validation.py\", line 2971, in validate_data\n    X, y = check_X_y(X, y, **check_params)\n           ^^^^^^^^^^^^^^^^^^^^^^^^^^^^^^^\n  File \"d:\\Model_Deployement\\deploy\\Lib\\site-packages\\sklearn\\utils\\validation.py\", line 1368, in check_X_y\n    X = check_array(\n        ^^^^^^^^^^^^\n  File \"d:\\Model_Deployement\\deploy\\Lib\\site-packages\\sklearn\\utils\\validation.py\", line 1053, in check_array\n    array = _asarray_with_order(array, order=order, dtype=dtype, xp=xp)\n            ^^^^^^^^^^^^^^^^^^^^^^^^^^^^^^^^^^^^^^^^^^^^^^^^^^^^^^^^^^^\n  File \"d:\\Model_Deployement\\deploy\\Lib\\site-packages\\sklearn\\utils\\_array_api.py\", line 757, in _asarray_with_order\n    array = numpy.asarray(array, order=order, dtype=dtype)\n            ^^^^^^^^^^^^^^^^^^^^^^^^^^^^^^^^^^^^^^^^^^^^^^\nValueError: could not convert string to float: '[-1.9368222e-01 -2.7224762e-02 -4.6886253e-01  4.4559526e-01\\n  5.2671552e-01 -1.0984726e+00  1.8019404e-01  7.2197670e-01\\n -3.1238028e-01 -5.5005604e-01 -2.4528705e-01 -2.9817879e-01\\n -4.2421702e-02  2.4352542e-01  1.1330314e-01 -1.7597787e-01\\n -1.9649397e-01 -3.0281079e-01  4.3717659e-01 -9.5075583e-01\\n  4.4006479e-01  4.0876579e-01  2.1805933e-01 -2.9010308e-01\\n  2.0618644e-01 -4.4044808e-01 -3.4993961e-01 -5.4648155e-01\\n -3.2446924e-01 -9.7346701e-02  2.2575326e-04  2.3958261e-01\\n -3.0502325e-01  4.6499744e-02 -6.6809156e-03  4.8870319e-01\\n -3.3922210e-01 -3.2613480e-01 -3.4065789e-01 -6.4297420e-01\\n -2.0368178e-01 -1.9751021e-01 -3.4704196e-01  2.3699445e-01\\n  6.1352646e-01  2.0047198e-01  1.7074139e-01 -2.5939041e-01\\n  4.9314749e-01  4.2866266e-01  4.1987687e-01 -8.2804573e-01\\n  6.3156217e-02  2.7430451e-01  2.1473703e-01  4.3529862e-01\\n  1.2311302e-02 -1.4773811e-01 -1.2058802e-01 -1.9467540e-02\\n  5.3959483e-01  1.8196344e-02 -4.0323228e-01 -7.6239717e-01\\n -4.8446572e-01  2.1338429e-02 -7.9137683e-01 -7.9489499e-01\\n -2.1658435e-01  2.4890667e-01 -9.5692106e-02 -3.0593422e-01\\n  5.6045043e-01 -1.2812151e-01  3.1054395e-01 -1.7045100e-01\\n -5.1872206e-01 -1.8012910e-01 -4.7690922e-01 -2.7113387e-01\\n -2.3451194e-01  3.0704102e-02 -7.4960083e-01  8.6575903e-02\\n  5.6396343e-02 -4.0523407e-01 -5.4020363e-01  4.7184948e-02\\n  5.4389352e-01  3.9994490e-01 -4.7403142e-01  3.8850699e-02\\n -1.5991900e-02  6.3569468e-01  6.1193371e-01 -2.4830021e-02\\n  5.8819354e-01 -8.6321205e-01  4.8661321e-02  3.0362956e-02]'\n\n--------------------------------------------------------------------------------\n16 fits failed with the following error:\nTraceback (most recent call last):\n  File \"d:\\Model_Deployement\\deploy\\Lib\\site-packages\\sklearn\\model_selection\\_validation.py\", line 859, in _fit_and_score\n    estimator.fit(X_train, y_train, **fit_params)\n  File \"d:\\Model_Deployement\\deploy\\Lib\\site-packages\\sklearn\\base.py\", line 1365, in wrapper\n    return fit_method(estimator, *args, **kwargs)\n           ^^^^^^^^^^^^^^^^^^^^^^^^^^^^^^^^^^^^^^\n  File \"d:\\Model_Deployement\\deploy\\Lib\\site-packages\\sklearn\\ensemble\\_forest.py\", line 359, in fit\n    X, y = validate_data(\n           ^^^^^^^^^^^^^^\n  File \"d:\\Model_Deployement\\deploy\\Lib\\site-packages\\sklearn\\utils\\validation.py\", line 2971, in validate_data\n    X, y = check_X_y(X, y, **check_params)\n           ^^^^^^^^^^^^^^^^^^^^^^^^^^^^^^^\n  File \"d:\\Model_Deployement\\deploy\\Lib\\site-packages\\sklearn\\utils\\validation.py\", line 1368, in check_X_y\n    X = check_array(\n        ^^^^^^^^^^^^\n  File \"d:\\Model_Deployement\\deploy\\Lib\\site-packages\\sklearn\\utils\\validation.py\", line 1053, in check_array\n    array = _asarray_with_order(array, order=order, dtype=dtype, xp=xp)\n            ^^^^^^^^^^^^^^^^^^^^^^^^^^^^^^^^^^^^^^^^^^^^^^^^^^^^^^^^^^^\n  File \"d:\\Model_Deployement\\deploy\\Lib\\site-packages\\sklearn\\utils\\_array_api.py\", line 757, in _asarray_with_order\n    array = numpy.asarray(array, order=order, dtype=dtype)\n            ^^^^^^^^^^^^^^^^^^^^^^^^^^^^^^^^^^^^^^^^^^^^^^\nValueError: could not convert string to float: '[-5.51826537e-01  2.35353768e-01 -1.97185919e-01  2.36417592e-01\\n  7.23521531e-01 -1.25717556e+00 -1.65941045e-01  4.46724743e-01\\n -6.66064858e-01  1.26164377e-01 -2.31147796e-01 -4.64446545e-01\\n -1.74745768e-01  1.10335016e+00  5.92104979e-02 -6.47933483e-01\\n  1.75353754e-02 -4.14015919e-01  3.56039315e-01 -6.99145615e-01\\n  1.94239378e-01  4.46333379e-01  4.67250586e-01 -1.27755260e+00\\n -1.34932563e-01 -2.49250442e-01 -1.36192292e-01 -4.30966854e-01\\n -9.12026346e-01 -6.44236147e-01 -5.87767541e-01  2.54833758e-01\\n -6.29247606e-01  1.88695252e-01 -5.37235737e-01  7.67601490e-01\\n -3.55015010e-01 -2.71159917e-01 -9.21509340e-02 -1.05564380e+00\\n -8.79736245e-02 -2.82378674e-01 -3.15729469e-01  5.95605016e-01\\n  1.23676717e+00  4.25289601e-01 -4.32056308e-01  1.85317397e-01\\n  1.03475356e+00  7.41147459e-01 -3.61328989e-01 -8.89826000e-01\\n  5.89977562e-01  1.37520544e-02 -7.76147783e-01  1.34110242e-01\\n  5.38513139e-02 -5.17896652e-01  3.12239975e-01 -2.79743940e-01\\n  1.53750730e+00  1.84504122e-01  2.77797580e-01 -1.02933347e+00\\n -5.64234436e-01  3.72801155e-01 -8.34253728e-01 -5.43593764e-01\\n -1.31350684e+00  1.17832325e-01 -4.23024565e-01  3.33325639e-02\\n  5.10868967e-01 -2.21168265e-01 -9.50668827e-02 -1.40158236e-01\\n -9.24496412e-01  6.63743377e-01 -6.51757896e-01 -1.24371552e+00\\n -5.11743501e-03  9.44941565e-02 -1.26415527e+00  2.37697409e-03\\n  8.60672474e-01 -1.28722119e+00 -2.91457504e-01  1.18098788e-01\\n  5.50558090e-01  2.97698528e-01 -1.01939571e+00  1.41840503e-01\\n  6.40612170e-02  5.84295392e-01  1.29669440e+00  2.16570869e-01\\n  8.93030822e-01 -1.09466100e+00  1.66564467e-04  2.18416750e-01]'\n",
     "output_type": "error",
     "traceback": [
      "\u001b[31m---------------------------------------------------------------------------\u001b[39m",
      "\u001b[31mValueError\u001b[39m                                Traceback (most recent call last)",
      "\u001b[36mCell\u001b[39m\u001b[36m \u001b[39m\u001b[32mIn[36]\u001b[39m\u001b[32m, line 7\u001b[39m\n\u001b[32m      5\u001b[39m \u001b[38;5;28;01mwith\u001b[39;00m mlflow.start_run(run_name=model_name+\u001b[33m'\u001b[39m\u001b[33m Hyperparameter tuning\u001b[39m\u001b[33m'\u001b[39m):\n\u001b[32m      6\u001b[39m     classifier=GridSearchCV(clf_model[\u001b[33m'\u001b[39m\u001b[33mmodel\u001b[39m\u001b[33m'\u001b[39m],clf_model[\u001b[33m'\u001b[39m\u001b[33mparams\u001b[39m\u001b[33m'\u001b[39m],cv=\u001b[32m5\u001b[39m,scoring=\u001b[33m'\u001b[39m\u001b[33maccuracy\u001b[39m\u001b[33m'\u001b[39m)\n\u001b[32m----> \u001b[39m\u001b[32m7\u001b[39m     \u001b[43mclassifier\u001b[49m\u001b[43m.\u001b[49m\u001b[43mfit\u001b[49m\u001b[43m(\u001b[49m\u001b[43mX_train\u001b[49m\u001b[43m,\u001b[49m\u001b[43my_train\u001b[49m\u001b[43m)\u001b[49m\n\u001b[32m      9\u001b[39m     mlflow.log_param(\u001b[33m\"\u001b[39m\u001b[33mmodel_name\u001b[39m\u001b[33m\"\u001b[39m,model_name)\n\u001b[32m     11\u001b[39m     \u001b[38;5;66;03m#log parameters\u001b[39;00m\n",
      "\u001b[36mFile \u001b[39m\u001b[32md:\\Model_Deployement\\deploy\\Lib\\site-packages\\sklearn\\base.py:1365\u001b[39m, in \u001b[36m_fit_context.<locals>.decorator.<locals>.wrapper\u001b[39m\u001b[34m(estimator, *args, **kwargs)\u001b[39m\n\u001b[32m   1358\u001b[39m     estimator._validate_params()\n\u001b[32m   1360\u001b[39m \u001b[38;5;28;01mwith\u001b[39;00m config_context(\n\u001b[32m   1361\u001b[39m     skip_parameter_validation=(\n\u001b[32m   1362\u001b[39m         prefer_skip_nested_validation \u001b[38;5;129;01mor\u001b[39;00m global_skip_validation\n\u001b[32m   1363\u001b[39m     )\n\u001b[32m   1364\u001b[39m ):\n\u001b[32m-> \u001b[39m\u001b[32m1365\u001b[39m     \u001b[38;5;28;01mreturn\u001b[39;00m \u001b[43mfit_method\u001b[49m\u001b[43m(\u001b[49m\u001b[43mestimator\u001b[49m\u001b[43m,\u001b[49m\u001b[43m \u001b[49m\u001b[43m*\u001b[49m\u001b[43margs\u001b[49m\u001b[43m,\u001b[49m\u001b[43m \u001b[49m\u001b[43m*\u001b[49m\u001b[43m*\u001b[49m\u001b[43mkwargs\u001b[49m\u001b[43m)\u001b[49m\n",
      "\u001b[36mFile \u001b[39m\u001b[32md:\\Model_Deployement\\deploy\\Lib\\site-packages\\sklearn\\model_selection\\_search.py:1051\u001b[39m, in \u001b[36mBaseSearchCV.fit\u001b[39m\u001b[34m(self, X, y, **params)\u001b[39m\n\u001b[32m   1045\u001b[39m     results = \u001b[38;5;28mself\u001b[39m._format_results(\n\u001b[32m   1046\u001b[39m         all_candidate_params, n_splits, all_out, all_more_results\n\u001b[32m   1047\u001b[39m     )\n\u001b[32m   1049\u001b[39m     \u001b[38;5;28;01mreturn\u001b[39;00m results\n\u001b[32m-> \u001b[39m\u001b[32m1051\u001b[39m \u001b[38;5;28;43mself\u001b[39;49m\u001b[43m.\u001b[49m\u001b[43m_run_search\u001b[49m\u001b[43m(\u001b[49m\u001b[43mevaluate_candidates\u001b[49m\u001b[43m)\u001b[49m\n\u001b[32m   1053\u001b[39m \u001b[38;5;66;03m# multimetric is determined here because in the case of a callable\u001b[39;00m\n\u001b[32m   1054\u001b[39m \u001b[38;5;66;03m# self.scoring the return type is only known after calling\u001b[39;00m\n\u001b[32m   1055\u001b[39m first_test_score = all_out[\u001b[32m0\u001b[39m][\u001b[33m\"\u001b[39m\u001b[33mtest_scores\u001b[39m\u001b[33m\"\u001b[39m]\n",
      "\u001b[36mFile \u001b[39m\u001b[32md:\\Model_Deployement\\deploy\\Lib\\site-packages\\sklearn\\model_selection\\_search.py:1605\u001b[39m, in \u001b[36mGridSearchCV._run_search\u001b[39m\u001b[34m(self, evaluate_candidates)\u001b[39m\n\u001b[32m   1603\u001b[39m \u001b[38;5;28;01mdef\u001b[39;00m\u001b[38;5;250m \u001b[39m\u001b[34m_run_search\u001b[39m(\u001b[38;5;28mself\u001b[39m, evaluate_candidates):\n\u001b[32m   1604\u001b[39m \u001b[38;5;250m    \u001b[39m\u001b[33;03m\"\"\"Search all candidates in param_grid\"\"\"\u001b[39;00m\n\u001b[32m-> \u001b[39m\u001b[32m1605\u001b[39m     \u001b[43mevaluate_candidates\u001b[49m\u001b[43m(\u001b[49m\u001b[43mParameterGrid\u001b[49m\u001b[43m(\u001b[49m\u001b[38;5;28;43mself\u001b[39;49m\u001b[43m.\u001b[49m\u001b[43mparam_grid\u001b[49m\u001b[43m)\u001b[49m\u001b[43m)\u001b[49m\n",
      "\u001b[36mFile \u001b[39m\u001b[32md:\\Model_Deployement\\deploy\\Lib\\site-packages\\sklearn\\model_selection\\_search.py:1028\u001b[39m, in \u001b[36mBaseSearchCV.fit.<locals>.evaluate_candidates\u001b[39m\u001b[34m(candidate_params, cv, more_results)\u001b[39m\n\u001b[32m   1021\u001b[39m \u001b[38;5;28;01melif\u001b[39;00m \u001b[38;5;28mlen\u001b[39m(out) != n_candidates * n_splits:\n\u001b[32m   1022\u001b[39m     \u001b[38;5;28;01mraise\u001b[39;00m \u001b[38;5;167;01mValueError\u001b[39;00m(\n\u001b[32m   1023\u001b[39m         \u001b[33m\"\u001b[39m\u001b[33mcv.split and cv.get_n_splits returned \u001b[39m\u001b[33m\"\u001b[39m\n\u001b[32m   1024\u001b[39m         \u001b[33m\"\u001b[39m\u001b[33minconsistent results. Expected \u001b[39m\u001b[38;5;132;01m{}\u001b[39;00m\u001b[33m \u001b[39m\u001b[33m\"\u001b[39m\n\u001b[32m   1025\u001b[39m         \u001b[33m\"\u001b[39m\u001b[33msplits, got \u001b[39m\u001b[38;5;132;01m{}\u001b[39;00m\u001b[33m\"\u001b[39m.format(n_splits, \u001b[38;5;28mlen\u001b[39m(out) // n_candidates)\n\u001b[32m   1026\u001b[39m     )\n\u001b[32m-> \u001b[39m\u001b[32m1028\u001b[39m \u001b[43m_warn_or_raise_about_fit_failures\u001b[49m\u001b[43m(\u001b[49m\u001b[43mout\u001b[49m\u001b[43m,\u001b[49m\u001b[43m \u001b[49m\u001b[38;5;28;43mself\u001b[39;49m\u001b[43m.\u001b[49m\u001b[43merror_score\u001b[49m\u001b[43m)\u001b[49m\n\u001b[32m   1030\u001b[39m \u001b[38;5;66;03m# For callable self.scoring, the return type is only know after\u001b[39;00m\n\u001b[32m   1031\u001b[39m \u001b[38;5;66;03m# calling. If the return type is a dictionary, the error scores\u001b[39;00m\n\u001b[32m   1032\u001b[39m \u001b[38;5;66;03m# can now be inserted with the correct key. The type checking\u001b[39;00m\n\u001b[32m   1033\u001b[39m \u001b[38;5;66;03m# of out will be done in `_insert_error_scores`.\u001b[39;00m\n\u001b[32m   1034\u001b[39m \u001b[38;5;28;01mif\u001b[39;00m \u001b[38;5;28mcallable\u001b[39m(\u001b[38;5;28mself\u001b[39m.scoring):\n",
      "\u001b[36mFile \u001b[39m\u001b[32md:\\Model_Deployement\\deploy\\Lib\\site-packages\\sklearn\\model_selection\\_validation.py:505\u001b[39m, in \u001b[36m_warn_or_raise_about_fit_failures\u001b[39m\u001b[34m(results, error_score)\u001b[39m\n\u001b[32m    498\u001b[39m \u001b[38;5;28;01mif\u001b[39;00m num_failed_fits == num_fits:\n\u001b[32m    499\u001b[39m     all_fits_failed_message = (\n\u001b[32m    500\u001b[39m         \u001b[33mf\u001b[39m\u001b[33m\"\u001b[39m\u001b[38;5;130;01m\\n\u001b[39;00m\u001b[33mAll the \u001b[39m\u001b[38;5;132;01m{\u001b[39;00mnum_fits\u001b[38;5;132;01m}\u001b[39;00m\u001b[33m fits failed.\u001b[39m\u001b[38;5;130;01m\\n\u001b[39;00m\u001b[33m\"\u001b[39m\n\u001b[32m    501\u001b[39m         \u001b[33m\"\u001b[39m\u001b[33mIt is very likely that your model is misconfigured.\u001b[39m\u001b[38;5;130;01m\\n\u001b[39;00m\u001b[33m\"\u001b[39m\n\u001b[32m    502\u001b[39m         \u001b[33m\"\u001b[39m\u001b[33mYou can try to debug the error by setting error_score=\u001b[39m\u001b[33m'\u001b[39m\u001b[33mraise\u001b[39m\u001b[33m'\u001b[39m\u001b[33m.\u001b[39m\u001b[38;5;130;01m\\n\u001b[39;00m\u001b[38;5;130;01m\\n\u001b[39;00m\u001b[33m\"\u001b[39m\n\u001b[32m    503\u001b[39m         \u001b[33mf\u001b[39m\u001b[33m\"\u001b[39m\u001b[33mBelow are more details about the failures:\u001b[39m\u001b[38;5;130;01m\\n\u001b[39;00m\u001b[38;5;132;01m{\u001b[39;00mfit_errors_summary\u001b[38;5;132;01m}\u001b[39;00m\u001b[33m\"\u001b[39m\n\u001b[32m    504\u001b[39m     )\n\u001b[32m--> \u001b[39m\u001b[32m505\u001b[39m     \u001b[38;5;28;01mraise\u001b[39;00m \u001b[38;5;167;01mValueError\u001b[39;00m(all_fits_failed_message)\n\u001b[32m    507\u001b[39m \u001b[38;5;28;01melse\u001b[39;00m:\n\u001b[32m    508\u001b[39m     some_fits_failed_message = (\n\u001b[32m    509\u001b[39m         \u001b[33mf\u001b[39m\u001b[33m\"\u001b[39m\u001b[38;5;130;01m\\n\u001b[39;00m\u001b[38;5;132;01m{\u001b[39;00mnum_failed_fits\u001b[38;5;132;01m}\u001b[39;00m\u001b[33m fits failed out of a total of \u001b[39m\u001b[38;5;132;01m{\u001b[39;00mnum_fits\u001b[38;5;132;01m}\u001b[39;00m\u001b[33m.\u001b[39m\u001b[38;5;130;01m\\n\u001b[39;00m\u001b[33m\"\u001b[39m\n\u001b[32m    510\u001b[39m         \u001b[33m\"\u001b[39m\u001b[33mThe score on these train-test partitions for these parameters\u001b[39m\u001b[33m\"\u001b[39m\n\u001b[32m   (...)\u001b[39m\u001b[32m    514\u001b[39m         \u001b[33mf\u001b[39m\u001b[33m\"\u001b[39m\u001b[33mBelow are more details about the failures:\u001b[39m\u001b[38;5;130;01m\\n\u001b[39;00m\u001b[38;5;132;01m{\u001b[39;00mfit_errors_summary\u001b[38;5;132;01m}\u001b[39;00m\u001b[33m\"\u001b[39m\n\u001b[32m    515\u001b[39m     )\n",
      "\u001b[31mValueError\u001b[39m: \nAll the 20 fits failed.\nIt is very likely that your model is misconfigured.\nYou can try to debug the error by setting error_score='raise'.\n\nBelow are more details about the failures:\n--------------------------------------------------------------------------------\n4 fits failed with the following error:\nTraceback (most recent call last):\n  File \"d:\\Model_Deployement\\deploy\\Lib\\site-packages\\sklearn\\model_selection\\_validation.py\", line 859, in _fit_and_score\n    estimator.fit(X_train, y_train, **fit_params)\n  File \"d:\\Model_Deployement\\deploy\\Lib\\site-packages\\sklearn\\base.py\", line 1365, in wrapper\n    return fit_method(estimator, *args, **kwargs)\n           ^^^^^^^^^^^^^^^^^^^^^^^^^^^^^^^^^^^^^^\n  File \"d:\\Model_Deployement\\deploy\\Lib\\site-packages\\sklearn\\ensemble\\_forest.py\", line 359, in fit\n    X, y = validate_data(\n           ^^^^^^^^^^^^^^\n  File \"d:\\Model_Deployement\\deploy\\Lib\\site-packages\\sklearn\\utils\\validation.py\", line 2971, in validate_data\n    X, y = check_X_y(X, y, **check_params)\n           ^^^^^^^^^^^^^^^^^^^^^^^^^^^^^^^\n  File \"d:\\Model_Deployement\\deploy\\Lib\\site-packages\\sklearn\\utils\\validation.py\", line 1368, in check_X_y\n    X = check_array(\n        ^^^^^^^^^^^^\n  File \"d:\\Model_Deployement\\deploy\\Lib\\site-packages\\sklearn\\utils\\validation.py\", line 1053, in check_array\n    array = _asarray_with_order(array, order=order, dtype=dtype, xp=xp)\n            ^^^^^^^^^^^^^^^^^^^^^^^^^^^^^^^^^^^^^^^^^^^^^^^^^^^^^^^^^^^\n  File \"d:\\Model_Deployement\\deploy\\Lib\\site-packages\\sklearn\\utils\\_array_api.py\", line 757, in _asarray_with_order\n    array = numpy.asarray(array, order=order, dtype=dtype)\n            ^^^^^^^^^^^^^^^^^^^^^^^^^^^^^^^^^^^^^^^^^^^^^^\nValueError: could not convert string to float: '[-1.9368222e-01 -2.7224762e-02 -4.6886253e-01  4.4559526e-01\\n  5.2671552e-01 -1.0984726e+00  1.8019404e-01  7.2197670e-01\\n -3.1238028e-01 -5.5005604e-01 -2.4528705e-01 -2.9817879e-01\\n -4.2421702e-02  2.4352542e-01  1.1330314e-01 -1.7597787e-01\\n -1.9649397e-01 -3.0281079e-01  4.3717659e-01 -9.5075583e-01\\n  4.4006479e-01  4.0876579e-01  2.1805933e-01 -2.9010308e-01\\n  2.0618644e-01 -4.4044808e-01 -3.4993961e-01 -5.4648155e-01\\n -3.2446924e-01 -9.7346701e-02  2.2575326e-04  2.3958261e-01\\n -3.0502325e-01  4.6499744e-02 -6.6809156e-03  4.8870319e-01\\n -3.3922210e-01 -3.2613480e-01 -3.4065789e-01 -6.4297420e-01\\n -2.0368178e-01 -1.9751021e-01 -3.4704196e-01  2.3699445e-01\\n  6.1352646e-01  2.0047198e-01  1.7074139e-01 -2.5939041e-01\\n  4.9314749e-01  4.2866266e-01  4.1987687e-01 -8.2804573e-01\\n  6.3156217e-02  2.7430451e-01  2.1473703e-01  4.3529862e-01\\n  1.2311302e-02 -1.4773811e-01 -1.2058802e-01 -1.9467540e-02\\n  5.3959483e-01  1.8196344e-02 -4.0323228e-01 -7.6239717e-01\\n -4.8446572e-01  2.1338429e-02 -7.9137683e-01 -7.9489499e-01\\n -2.1658435e-01  2.4890667e-01 -9.5692106e-02 -3.0593422e-01\\n  5.6045043e-01 -1.2812151e-01  3.1054395e-01 -1.7045100e-01\\n -5.1872206e-01 -1.8012910e-01 -4.7690922e-01 -2.7113387e-01\\n -2.3451194e-01  3.0704102e-02 -7.4960083e-01  8.6575903e-02\\n  5.6396343e-02 -4.0523407e-01 -5.4020363e-01  4.7184948e-02\\n  5.4389352e-01  3.9994490e-01 -4.7403142e-01  3.8850699e-02\\n -1.5991900e-02  6.3569468e-01  6.1193371e-01 -2.4830021e-02\\n  5.8819354e-01 -8.6321205e-01  4.8661321e-02  3.0362956e-02]'\n\n--------------------------------------------------------------------------------\n16 fits failed with the following error:\nTraceback (most recent call last):\n  File \"d:\\Model_Deployement\\deploy\\Lib\\site-packages\\sklearn\\model_selection\\_validation.py\", line 859, in _fit_and_score\n    estimator.fit(X_train, y_train, **fit_params)\n  File \"d:\\Model_Deployement\\deploy\\Lib\\site-packages\\sklearn\\base.py\", line 1365, in wrapper\n    return fit_method(estimator, *args, **kwargs)\n           ^^^^^^^^^^^^^^^^^^^^^^^^^^^^^^^^^^^^^^\n  File \"d:\\Model_Deployement\\deploy\\Lib\\site-packages\\sklearn\\ensemble\\_forest.py\", line 359, in fit\n    X, y = validate_data(\n           ^^^^^^^^^^^^^^\n  File \"d:\\Model_Deployement\\deploy\\Lib\\site-packages\\sklearn\\utils\\validation.py\", line 2971, in validate_data\n    X, y = check_X_y(X, y, **check_params)\n           ^^^^^^^^^^^^^^^^^^^^^^^^^^^^^^^\n  File \"d:\\Model_Deployement\\deploy\\Lib\\site-packages\\sklearn\\utils\\validation.py\", line 1368, in check_X_y\n    X = check_array(\n        ^^^^^^^^^^^^\n  File \"d:\\Model_Deployement\\deploy\\Lib\\site-packages\\sklearn\\utils\\validation.py\", line 1053, in check_array\n    array = _asarray_with_order(array, order=order, dtype=dtype, xp=xp)\n            ^^^^^^^^^^^^^^^^^^^^^^^^^^^^^^^^^^^^^^^^^^^^^^^^^^^^^^^^^^^\n  File \"d:\\Model_Deployement\\deploy\\Lib\\site-packages\\sklearn\\utils\\_array_api.py\", line 757, in _asarray_with_order\n    array = numpy.asarray(array, order=order, dtype=dtype)\n            ^^^^^^^^^^^^^^^^^^^^^^^^^^^^^^^^^^^^^^^^^^^^^^\nValueError: could not convert string to float: '[-5.51826537e-01  2.35353768e-01 -1.97185919e-01  2.36417592e-01\\n  7.23521531e-01 -1.25717556e+00 -1.65941045e-01  4.46724743e-01\\n -6.66064858e-01  1.26164377e-01 -2.31147796e-01 -4.64446545e-01\\n -1.74745768e-01  1.10335016e+00  5.92104979e-02 -6.47933483e-01\\n  1.75353754e-02 -4.14015919e-01  3.56039315e-01 -6.99145615e-01\\n  1.94239378e-01  4.46333379e-01  4.67250586e-01 -1.27755260e+00\\n -1.34932563e-01 -2.49250442e-01 -1.36192292e-01 -4.30966854e-01\\n -9.12026346e-01 -6.44236147e-01 -5.87767541e-01  2.54833758e-01\\n -6.29247606e-01  1.88695252e-01 -5.37235737e-01  7.67601490e-01\\n -3.55015010e-01 -2.71159917e-01 -9.21509340e-02 -1.05564380e+00\\n -8.79736245e-02 -2.82378674e-01 -3.15729469e-01  5.95605016e-01\\n  1.23676717e+00  4.25289601e-01 -4.32056308e-01  1.85317397e-01\\n  1.03475356e+00  7.41147459e-01 -3.61328989e-01 -8.89826000e-01\\n  5.89977562e-01  1.37520544e-02 -7.76147783e-01  1.34110242e-01\\n  5.38513139e-02 -5.17896652e-01  3.12239975e-01 -2.79743940e-01\\n  1.53750730e+00  1.84504122e-01  2.77797580e-01 -1.02933347e+00\\n -5.64234436e-01  3.72801155e-01 -8.34253728e-01 -5.43593764e-01\\n -1.31350684e+00  1.17832325e-01 -4.23024565e-01  3.33325639e-02\\n  5.10868967e-01 -2.21168265e-01 -9.50668827e-02 -1.40158236e-01\\n -9.24496412e-01  6.63743377e-01 -6.51757896e-01 -1.24371552e+00\\n -5.11743501e-03  9.44941565e-02 -1.26415527e+00  2.37697409e-03\\n  8.60672474e-01 -1.28722119e+00 -2.91457504e-01  1.18098788e-01\\n  5.50558090e-01  2.97698528e-01 -1.01939571e+00  1.41840503e-01\\n  6.40612170e-02  5.84295392e-01  1.29669440e+00  2.16570869e-01\\n  8.93030822e-01 -1.09466100e+00  1.66564467e-04  2.18416750e-01]'\n"
     ]
    }
   ],
   "source": [
    "models={\n",
    "    'XGBoost': {\n",
    "        'model': XGBClassifier(use_label_encoder=False, eval_metric='logloss'),\n",
    "        'params': {\n",
    "            'n_estimators': [50, 100],\n",
    "            'max_depth': [3, 5],\n",
    "            'learning_rate': [0.1]\n",
    "        }\n",
    "    },\n",
    "    'RandomForest': {\n",
    "        'model': RandomForestClassifier(),\n",
    "        'params': {\n",
    "            'n_estimators': [50, 100],\n",
    "            'max_depth': [4, 8]\n",
    "        }\n",
    "    },\n",
    "    'SVC': {\n",
    "        'model': SVC(),\n",
    "        'params': {\n",
    "            'C': [0.1, 1],\n",
    "            'kernel': ['linear']\n",
    "        }\n",
    "    },\n",
    "    'Decision_Tree':{\n",
    "        'model':DecisionTreeClassifier(),\n",
    "        'params':{\n",
    "            'max_depth':[5,8],\n",
    "        }\n",
    "    },\n",
    "   'LogisticRegression': {\n",
    "        'model': LogisticRegression(max_iter=1000),\n",
    "        'params': {\n",
    "            'C': [0.01, 0.1, 1],\n",
    "            'penalty': ['l2'],\n",
    "            'solver': ['lbfgs']\n",
    "        }\n",
    "    },\n",
    "    'KNN': {\n",
    "        'model': KNeighborsClassifier(),\n",
    "        'params': {\n",
    "            'n_neighbors': [3, 5, 7],\n",
    "            'weights': ['uniform', 'distance']\n",
    "        }\n",
    "    }\n",
    "}\n",
    "mlflow.set_experiment('Hyper-Parametertuning of Classifiers')\n",
    "mlflow.set_registry_uri('http://127.0.0.1:5000/')\n",
    "\n",
    "for model_name,clf_model in models.items():\n",
    "    with mlflow.start_run(run_name=model_name+' Hyperparameter tuning'):\n",
    "        classifier=GridSearchCV(clf_model['model'],clf_model['params'],cv=5,scoring='accuracy')\n",
    "        classifier.fit(X_train,y_train)\n",
    "\n",
    "        mlflow.log_param(\"model_name\",model_name)\n",
    "\n",
    "        #log parameters\n",
    "        for param_name, param_value in classifier.best_params_.items():\n",
    "            mlflow.log_param(param_name,param_value)\n",
    "        # Log best model\n",
    "        mlflow.sklearn.log_model(classifier.best_estimator_, model_name + \"_model\")\n",
    "\n",
    "        print(f\"{model_name} logged in MLflow with accuracy: {classifier.best_score_:.4f}\")\n",
    "\n"
   ]
  },
  {
   "cell_type": "code",
   "execution_count": null,
   "id": "3ad75113",
   "metadata": {},
   "outputs": [],
   "source": []
  }
 ],
 "metadata": {
  "kernelspec": {
   "display_name": "deploy",
   "language": "python",
   "name": "python3"
  },
  "language_info": {
   "codemirror_mode": {
    "name": "ipython",
    "version": 3
   },
   "file_extension": ".py",
   "mimetype": "text/x-python",
   "name": "python",
   "nbconvert_exporter": "python",
   "pygments_lexer": "ipython3",
   "version": "3.11.1"
  }
 },
 "nbformat": 4,
 "nbformat_minor": 5
}
