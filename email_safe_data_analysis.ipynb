{
 "cells": [
  {
   "cell_type": "markdown",
   "id": "77f99f81",
   "metadata": {},
   "source": [
    "# Email dataset "
   ]
  },
  {
   "cell_type": "code",
   "execution_count": 1,
   "id": "7966af15",
   "metadata": {},
   "outputs": [
    {
     "name": "stderr",
     "output_type": "stream",
     "text": [
      "d:\\Model_Deployement\\deploy\\Lib\\site-packages\\tqdm\\auto.py:21: TqdmWarning: IProgress not found. Please update jupyter and ipywidgets. See https://ipywidgets.readthedocs.io/en/stable/user_install.html\n",
      "  from .autonotebook import tqdm as notebook_tqdm\n"
     ]
    }
   ],
   "source": [
    "import pandas as pd\n",
    "import nlp\n",
    "from sklearn.model_selection import train_test_split\n",
    "from sklearn.preprocessing import OneHotEncoder\n",
    "from sklearn.tree import DecisionTreeClassifier\n",
    "from sklearn.naive_bayes import GaussianNB\n",
    "from sklearn.ensemble import RandomForestClassifier\n",
    "from sklearn.neighbors import KNeighborsClassifier\n",
    "from sklearn.metrics import accuracy_score\n",
    "import re\n",
    "import nltk\n",
    "from nltk.corpus import stopwords\n",
    "from nltk.stem import PorterStemmer\n",
    "import gensim\n",
    "import mlflow\n",
    "import mlflow.sklearn"
   ]
  },
  {
   "cell_type": "code",
   "execution_count": 2,
   "id": "e4db096f",
   "metadata": {},
   "outputs": [
    {
     "name": "stderr",
     "output_type": "stream",
     "text": [
      "[nltk_data] Downloading package stopwords to\n",
      "[nltk_data]     C:\\Users\\Admin\\AppData\\Roaming\\nltk_data...\n",
      "[nltk_data]   Package stopwords is already up-to-date!\n"
     ]
    },
    {
     "data": {
      "text/plain": [
       "True"
      ]
     },
     "execution_count": 2,
     "metadata": {},
     "output_type": "execute_result"
    }
   ],
   "source": [
    "# Download stopwords if not already downloaded\n",
    "nltk.download('stopwords')"
   ]
  },
  {
   "cell_type": "code",
   "execution_count": 3,
   "metadata": {},
   "outputs": [],
   "source": [
    "data=pd.read_csv('D:\\Model_Deployement\\Dataset\\Phishing_Email.csv',index_col=False)"
   ]
  },
  {
   "cell_type": "code",
   "execution_count": 4,
   "metadata": {},
   "outputs": [
    {
     "data": {
      "text/html": [
       "<div>\n",
       "<style scoped>\n",
       "    .dataframe tbody tr th:only-of-type {\n",
       "        vertical-align: middle;\n",
       "    }\n",
       "\n",
       "    .dataframe tbody tr th {\n",
       "        vertical-align: top;\n",
       "    }\n",
       "\n",
       "    .dataframe thead th {\n",
       "        text-align: right;\n",
       "    }\n",
       "</style>\n",
       "<table border=\"1\" class=\"dataframe\">\n",
       "  <thead>\n",
       "    <tr style=\"text-align: right;\">\n",
       "      <th></th>\n",
       "      <th>Unnamed: 0</th>\n",
       "      <th>Email Text</th>\n",
       "      <th>Email Type</th>\n",
       "    </tr>\n",
       "  </thead>\n",
       "  <tbody>\n",
       "    <tr>\n",
       "      <th>0</th>\n",
       "      <td>0</td>\n",
       "      <td>re : 6 . 1100 , disc : uniformitarianism , re ...</td>\n",
       "      <td>Safe Email</td>\n",
       "    </tr>\n",
       "    <tr>\n",
       "      <th>1</th>\n",
       "      <td>1</td>\n",
       "      <td>the other side of * galicismos * * galicismo *...</td>\n",
       "      <td>Safe Email</td>\n",
       "    </tr>\n",
       "    <tr>\n",
       "      <th>2</th>\n",
       "      <td>2</td>\n",
       "      <td>re : equistar deal tickets are you still avail...</td>\n",
       "      <td>Safe Email</td>\n",
       "    </tr>\n",
       "    <tr>\n",
       "      <th>3</th>\n",
       "      <td>3</td>\n",
       "      <td>\\nHello I am your hot lil horny toy.\\n    I am...</td>\n",
       "      <td>Phishing Email</td>\n",
       "    </tr>\n",
       "    <tr>\n",
       "      <th>4</th>\n",
       "      <td>4</td>\n",
       "      <td>software at incredibly low prices ( 86 % lower...</td>\n",
       "      <td>Phishing Email</td>\n",
       "    </tr>\n",
       "  </tbody>\n",
       "</table>\n",
       "</div>"
      ],
      "text/plain": [
       "   Unnamed: 0                                         Email Text  \\\n",
       "0           0  re : 6 . 1100 , disc : uniformitarianism , re ...   \n",
       "1           1  the other side of * galicismos * * galicismo *...   \n",
       "2           2  re : equistar deal tickets are you still avail...   \n",
       "3           3  \\nHello I am your hot lil horny toy.\\n    I am...   \n",
       "4           4  software at incredibly low prices ( 86 % lower...   \n",
       "\n",
       "       Email Type  \n",
       "0      Safe Email  \n",
       "1      Safe Email  \n",
       "2      Safe Email  \n",
       "3  Phishing Email  \n",
       "4  Phishing Email  "
      ]
     },
     "execution_count": 4,
     "metadata": {},
     "output_type": "execute_result"
    }
   ],
   "source": [
    "data.head()"
   ]
  },
  {
   "cell_type": "code",
   "execution_count": 5,
   "id": "fcf20294",
   "metadata": {},
   "outputs": [],
   "source": [
    "record=data['Email Text'][0]"
   ]
  },
  {
   "cell_type": "code",
   "execution_count": 6,
   "id": "b7cf30bc",
   "metadata": {},
   "outputs": [
    {
     "data": {
      "text/plain": [
       "Unnamed: 0     0\n",
       "Email Text    16\n",
       "Email Type     0\n",
       "dtype: int64"
      ]
     },
     "execution_count": 6,
     "metadata": {},
     "output_type": "execute_result"
    }
   ],
   "source": [
    "data.isna().sum()"
   ]
  },
  {
   "cell_type": "code",
   "execution_count": 7,
   "id": "4f1fe747",
   "metadata": {},
   "outputs": [
    {
     "name": "stderr",
     "output_type": "stream",
     "text": [
      "C:\\Users\\Admin\\AppData\\Local\\Temp\\ipykernel_11000\\1110725904.py:2: FutureWarning: A value is trying to be set on a copy of a DataFrame or Series through chained assignment using an inplace method.\n",
      "The behavior will change in pandas 3.0. This inplace method will never work because the intermediate object on which we are setting values always behaves as a copy.\n",
      "\n",
      "For example, when doing 'df[col].method(value, inplace=True)', try using 'df.method({col: value}, inplace=True)' or df[col] = df[col].method(value) instead, to perform the operation inplace on the original object.\n",
      "\n",
      "\n",
      "  data['Email Text'].fillna('',inplace=True)\n"
     ]
    }
   ],
   "source": [
    "# replace the na with empty space\n",
    "data['Email Text'].fillna('',inplace=True)"
   ]
  },
  {
   "cell_type": "markdown",
   "id": "5b495660",
   "metadata": {},
   "source": [
    "Apply the preprocessing on the text data for more refining the feature "
   ]
  },
  {
   "cell_type": "code",
   "execution_count": 8,
   "id": "48f42c8f",
   "metadata": {},
   "outputs": [],
   "source": [
    "# function for clean the data \n",
    "# function for clean the data \n",
    "ps=PorterStemmer()\n",
    "\n",
    "def clean(data):\n",
    "    data = re.sub(r'[^a-zA-Z\\s]', '', data)\n",
    "    data = data.lower()\n",
    "    stop_words = set(stopwords.words('english'))\n",
    "    words = data.split()\n",
    "    words = [word for word in words if word not in stop_words]\n",
    "    words = [ps.stem(word) for word in words]\n",
    "    return words  # returns a list of tokens\n",
    "    "
   ]
  },
  {
   "cell_type": "code",
   "execution_count": 9,
   "id": "772f2709",
   "metadata": {},
   "outputs": [],
   "source": [
    "cleaned_record=clean(record)"
   ]
  },
  {
   "cell_type": "code",
   "execution_count": 10,
   "id": "f734684b",
   "metadata": {},
   "outputs": [
    {
     "data": {
      "text/plain": [
       "['disc',\n",
       " 'uniformitarian',\n",
       " 'sex',\n",
       " 'lang',\n",
       " 'dick',\n",
       " 'hudson',\n",
       " 'observ',\n",
       " 'us',\n",
       " 'use',\n",
       " 'aughter',\n",
       " 'voc',\n",
       " 'thoughtprovok',\n",
       " 'sure',\n",
       " 'fair',\n",
       " 'attribut',\n",
       " 'son',\n",
       " 'treat',\n",
       " 'like',\n",
       " 'senior',\n",
       " 'rel',\n",
       " 'one',\n",
       " 'thing',\n",
       " 'nt',\n",
       " 'normal',\n",
       " 'use',\n",
       " 'brother',\n",
       " 'way',\n",
       " 'aughter',\n",
       " 'hard',\n",
       " 'imagin',\n",
       " 'natur',\n",
       " 'class',\n",
       " 'compris',\n",
       " 'senior',\n",
       " 'rel',\n",
       " 'exclud',\n",
       " 'brother',\n",
       " 'anoth',\n",
       " 'seem',\n",
       " 'differ',\n",
       " 'imagin',\n",
       " 'distinct',\n",
       " 'seem',\n",
       " 'senior',\n",
       " 'rel',\n",
       " 'term',\n",
       " 'use',\n",
       " 'wider',\n",
       " 'varieti',\n",
       " 'context',\n",
       " 'e',\n",
       " 'g',\n",
       " 'call',\n",
       " 'distanc',\n",
       " 'get',\n",
       " 'someon',\n",
       " 'attent',\n",
       " 'henc',\n",
       " 'begin',\n",
       " 'utter',\n",
       " 'wherea',\n",
       " 'seem',\n",
       " 'natur',\n",
       " 'utter',\n",
       " 'like',\n",
       " 'ye',\n",
       " 'son',\n",
       " 'hand',\n",
       " 'son',\n",
       " 'one',\n",
       " 'like',\n",
       " 'son',\n",
       " 'son',\n",
       " 'help',\n",
       " 'although',\n",
       " 'perhap',\n",
       " 'latter',\n",
       " 'one',\n",
       " 'complet',\n",
       " 'imposs',\n",
       " 'alexi',\n",
       " 'mr']"
      ]
     },
     "execution_count": 10,
     "metadata": {},
     "output_type": "execute_result"
    }
   ],
   "source": [
    "# applying the clean data \n",
    "cleaned_record"
   ]
  },
  {
   "cell_type": "code",
   "execution_count": 11,
   "id": "4529e38d",
   "metadata": {},
   "outputs": [],
   "source": [
    "# Apply the clean function to all emails to get tokens\n",
    "data['tokens'] = data['Email Text'].apply(clean)"
   ]
  },
  {
   "cell_type": "code",
   "execution_count": 12,
   "id": "2f6c21cf",
   "metadata": {},
   "outputs": [
    {
     "data": {
      "text/plain": [
       "array([-0.6678477 ,  0.22126657,  0.21499443,  0.09209052,  0.2987265 ,\n",
       "       -0.7009883 , -0.01120482,  0.34883332, -0.3345779 ,  0.25105402,\n",
       "        0.04017329, -0.30243143,  0.36628243,  1.0737046 , -0.04614336,\n",
       "       -0.9678252 ,  0.21168451, -0.5687821 , -0.06632439, -0.9823827 ,\n",
       "        0.1740822 ,  0.40818503,  0.12804006, -0.6247795 , -0.44254443,\n",
       "       -0.33016866, -0.20093495, -0.1483393 , -0.7685666 , -0.62716454,\n",
       "       -0.42291382,  0.5179392 , -0.25876224,  0.27129355, -0.30164707,\n",
       "        0.5108289 , -0.16620749, -0.34609273, -0.4565303 , -0.8155032 ,\n",
       "       -0.31691018, -0.2911172 ,  0.13368687,  0.50038874,  0.99702036,\n",
       "        0.57966775, -0.55134386,  0.5217776 ,  0.66396356,  0.5022494 ,\n",
       "       -0.49617875, -0.58116686,  0.1696924 ,  0.2763639 , -0.94695497,\n",
       "        0.21582384,  0.18826862, -0.24038428,  0.15748498, -0.37939388,\n",
       "        1.2337221 ,  0.15604076, -0.22079156, -0.71186864, -0.64174193,\n",
       "        0.11655094, -0.63188636,  0.00459586, -1.1010785 ,  0.30967748,\n",
       "       -0.2301457 , -0.06380246,  0.5852575 , -0.2791953 ,  0.2258412 ,\n",
       "       -0.34735006, -0.41245475,  0.40881065, -0.6891465 , -0.38724285,\n",
       "       -0.1572599 , -0.20128636, -0.9565733 ,  0.14961004,  0.5060608 ,\n",
       "       -0.5935222 , -0.5719863 ,  0.5548309 ,  0.37936333,  0.07636211,\n",
       "       -0.70885324,  0.13920423,  0.22322005,  0.5746128 ,  0.9575784 ,\n",
       "        0.14119208,  0.25011986, -0.809296  , -0.2905035 ,  0.21886097],\n",
       "      dtype=float32)"
      ]
     },
     "execution_count": 12,
     "metadata": {},
     "output_type": "execute_result"
    }
   ],
   "source": [
    "from gensim.models import Word2Vec\n",
    "import numpy as np\n",
    "\n",
    "# Train Word2Vec model on the tokenized emails\n",
    "w2v_model = Word2Vec(sentences=data['tokens'], vector_size=100, window=5, min_count=1, workers=4)\n",
    "\n",
    "# Function to get average vector for an email\n",
    "def get_email_vector(tokens, model):\n",
    "    vectors = [model.wv[word] for word in tokens if word in model.wv]\n",
    "    if vectors:\n",
    "        return np.mean(vectors, axis=0)\n",
    "    else:\n",
    "        return np.zeros(model.vector_size)\n",
    "\n",
    "# Apply the vectorization to each email\n",
    "data['email_vector'] = data['tokens'].apply(lambda x: get_email_vector(x, w2v_model))\n",
    "\n",
    "# Show the first email's vector\n",
    "data['email_vector'].iloc[0]"
   ]
  },
  {
   "cell_type": "code",
   "execution_count": 13,
   "id": "1cc5661b",
   "metadata": {},
   "outputs": [],
   "source": [
    "# # saving the word2vec model for the api input preprocessing\n",
    "# # model=w2v_model.dump()\n",
    "# import pickle\n",
    "\n",
    "\n",
    "# with open(\"vector_embedding_model.pkl\",'wb') as f:\n",
    "#     pickle.dump(w2v_model,f)\n",
    "\n",
    "\n"
   ]
  },
  {
   "cell_type": "code",
   "execution_count": 14,
   "id": "2e3a8534",
   "metadata": {},
   "outputs": [],
   "source": [
    "# # load model \n",
    "\n",
    "# with open(\"vector_embedding_model.pkl\",'rb') as f:\n",
    "#     Vec_model=pickle.load(f)\n",
    "\n",
    "# vec=get_email_vector(example,Vec_model)\n"
   ]
  },
  {
   "cell_type": "code",
   "execution_count": null,
   "id": "7bdb016b",
   "metadata": {},
   "outputs": [],
   "source": []
  },
  {
   "cell_type": "code",
   "execution_count": 15,
   "id": "c0f296cd",
   "metadata": {},
   "outputs": [],
   "source": [
    "# def load_model(file):\n",
    "#     with open(file,'rb') as f:\n",
    "#         model=pickle.load(f)\n",
    "\n",
    "#     return model\n",
    "\n",
    "# Vmodel=load_model('vector_embedding_model.pkl')\n",
    "# example=data['tokens'][0]\n",
    "# vec=get_email_vector(example,Vmodel)\n",
    "\n",
    "# vec"
   ]
  },
  {
   "cell_type": "code",
   "execution_count": 16,
   "id": "22c9c24c",
   "metadata": {},
   "outputs": [],
   "source": [
    "# new_vec=np.vstack(vec)"
   ]
  },
  {
   "cell_type": "code",
   "execution_count": 17,
   "id": "8a07ded0",
   "metadata": {},
   "outputs": [],
   "source": [
    "# new_vec"
   ]
  },
  {
   "cell_type": "markdown",
   "id": "96b7c2fb",
   "metadata": {},
   "source": [
    "# Target feature "
   ]
  },
  {
   "cell_type": "markdown",
   "id": "ddf5d2a8",
   "metadata": {},
   "source": [
    "Data set is silghtly imbalannced as the number of the phising mail are very less compared to the safe emails\n"
   ]
  },
  {
   "cell_type": "code",
   "execution_count": 18,
   "id": "97af31c8",
   "metadata": {},
   "outputs": [
    {
     "data": {
      "text/plain": [
       "Email Type\n",
       "Safe Email        0.607078\n",
       "Phishing Email    0.392922\n",
       "Name: proportion, dtype: float64"
      ]
     },
     "execution_count": 18,
     "metadata": {},
     "output_type": "execute_result"
    }
   ],
   "source": [
    "data['Email Type'].value_counts(normalize=True)"
   ]
  },
  {
   "cell_type": "code",
   "execution_count": 19,
   "id": "8f1d1db1",
   "metadata": {},
   "outputs": [
    {
     "data": {
      "text/html": [
       "<div>\n",
       "<style scoped>\n",
       "    .dataframe tbody tr th:only-of-type {\n",
       "        vertical-align: middle;\n",
       "    }\n",
       "\n",
       "    .dataframe tbody tr th {\n",
       "        vertical-align: top;\n",
       "    }\n",
       "\n",
       "    .dataframe thead th {\n",
       "        text-align: right;\n",
       "    }\n",
       "</style>\n",
       "<table border=\"1\" class=\"dataframe\">\n",
       "  <thead>\n",
       "    <tr style=\"text-align: right;\">\n",
       "      <th></th>\n",
       "      <th>Unnamed: 0</th>\n",
       "      <th>Email Text</th>\n",
       "      <th>Email Type</th>\n",
       "      <th>tokens</th>\n",
       "      <th>email_vector</th>\n",
       "      <th>Email Type_Phishing Email</th>\n",
       "      <th>Email Type_Safe Email</th>\n",
       "    </tr>\n",
       "  </thead>\n",
       "  <tbody>\n",
       "    <tr>\n",
       "      <th>0</th>\n",
       "      <td>0</td>\n",
       "      <td>re : 6 . 1100 , disc : uniformitarianism , re ...</td>\n",
       "      <td>Safe Email</td>\n",
       "      <td>[disc, uniformitarian, sex, lang, dick, hudson...</td>\n",
       "      <td>[-0.6678477, 0.22126657, 0.21499443, 0.0920905...</td>\n",
       "      <td>0.0</td>\n",
       "      <td>1.0</td>\n",
       "    </tr>\n",
       "    <tr>\n",
       "      <th>1</th>\n",
       "      <td>1</td>\n",
       "      <td>the other side of * galicismos * * galicismo *...</td>\n",
       "      <td>Safe Email</td>\n",
       "      <td>[side, galicismo, galicismo, spanish, term, na...</td>\n",
       "      <td>[-0.7129134, 0.6111404, 0.38503578, -0.0425917...</td>\n",
       "      <td>0.0</td>\n",
       "      <td>1.0</td>\n",
       "    </tr>\n",
       "    <tr>\n",
       "      <th>2</th>\n",
       "      <td>2</td>\n",
       "      <td>re : equistar deal tickets are you still avail...</td>\n",
       "      <td>Safe Email</td>\n",
       "      <td>[equistar, deal, ticket, still, avail, assist,...</td>\n",
       "      <td>[-0.90638566, 0.925917, -0.4976956, 1.7943083,...</td>\n",
       "      <td>0.0</td>\n",
       "      <td>1.0</td>\n",
       "    </tr>\n",
       "    <tr>\n",
       "      <th>3</th>\n",
       "      <td>3</td>\n",
       "      <td>\\nHello I am your hot lil horny toy.\\n    I am...</td>\n",
       "      <td>Phishing Email</td>\n",
       "      <td>[hello, hot, lil, horni, toy, one, dream, open...</td>\n",
       "      <td>[-0.4146968, 0.12298537, -0.43686053, 0.212549...</td>\n",
       "      <td>1.0</td>\n",
       "      <td>0.0</td>\n",
       "    </tr>\n",
       "    <tr>\n",
       "      <th>4</th>\n",
       "      <td>4</td>\n",
       "      <td>software at incredibly low prices ( 86 % lower...</td>\n",
       "      <td>Phishing Email</td>\n",
       "      <td>[softwar, incred, low, price, lower, draperi, ...</td>\n",
       "      <td>[-0.66229075, 0.42618254, 0.044395894, 0.27359...</td>\n",
       "      <td>1.0</td>\n",
       "      <td>0.0</td>\n",
       "    </tr>\n",
       "  </tbody>\n",
       "</table>\n",
       "</div>"
      ],
      "text/plain": [
       "   Unnamed: 0                                         Email Text  \\\n",
       "0           0  re : 6 . 1100 , disc : uniformitarianism , re ...   \n",
       "1           1  the other side of * galicismos * * galicismo *...   \n",
       "2           2  re : equistar deal tickets are you still avail...   \n",
       "3           3  \\nHello I am your hot lil horny toy.\\n    I am...   \n",
       "4           4  software at incredibly low prices ( 86 % lower...   \n",
       "\n",
       "       Email Type                                             tokens  \\\n",
       "0      Safe Email  [disc, uniformitarian, sex, lang, dick, hudson...   \n",
       "1      Safe Email  [side, galicismo, galicismo, spanish, term, na...   \n",
       "2      Safe Email  [equistar, deal, ticket, still, avail, assist,...   \n",
       "3  Phishing Email  [hello, hot, lil, horni, toy, one, dream, open...   \n",
       "4  Phishing Email  [softwar, incred, low, price, lower, draperi, ...   \n",
       "\n",
       "                                        email_vector  \\\n",
       "0  [-0.6678477, 0.22126657, 0.21499443, 0.0920905...   \n",
       "1  [-0.7129134, 0.6111404, 0.38503578, -0.0425917...   \n",
       "2  [-0.90638566, 0.925917, -0.4976956, 1.7943083,...   \n",
       "3  [-0.4146968, 0.12298537, -0.43686053, 0.212549...   \n",
       "4  [-0.66229075, 0.42618254, 0.044395894, 0.27359...   \n",
       "\n",
       "   Email Type_Phishing Email  Email Type_Safe Email  \n",
       "0                        0.0                    1.0  \n",
       "1                        0.0                    1.0  \n",
       "2                        0.0                    1.0  \n",
       "3                        1.0                    0.0  \n",
       "4                        1.0                    0.0  "
      ]
     },
     "execution_count": 19,
     "metadata": {},
     "output_type": "execute_result"
    }
   ],
   "source": [
    "from sklearn.preprocessing import OneHotEncoder\n",
    "\n",
    "encoder = OneHotEncoder(sparse_output=False)\n",
    "email_type_encoded = encoder.fit_transform(data[['Email Type']])\n",
    "\n",
    "# Convert to DataFrame for easy viewing\n",
    "email_type_encoded_df = pd.DataFrame(email_type_encoded, columns=encoder.get_feature_names_out(['Email Type']))\n",
    "\n",
    "# Concatenate with the original data if needed\n",
    "data = pd.concat([data.reset_index(drop=True), email_type_encoded_df.reset_index(drop=True)], axis=1)\n",
    "\n",
    "# Show the result\n",
    "data.head()"
   ]
  },
  {
   "cell_type": "code",
   "execution_count": 20,
   "id": "f4208ea0",
   "metadata": {},
   "outputs": [],
   "source": [
    "data.drop(columns=['Email Type_Safe Email'],axis=1,inplace=True)"
   ]
  },
  {
   "cell_type": "code",
   "execution_count": 21,
   "id": "b22cde73",
   "metadata": {},
   "outputs": [
    {
     "data": {
      "text/html": [
       "<div>\n",
       "<style scoped>\n",
       "    .dataframe tbody tr th:only-of-type {\n",
       "        vertical-align: middle;\n",
       "    }\n",
       "\n",
       "    .dataframe tbody tr th {\n",
       "        vertical-align: top;\n",
       "    }\n",
       "\n",
       "    .dataframe thead th {\n",
       "        text-align: right;\n",
       "    }\n",
       "</style>\n",
       "<table border=\"1\" class=\"dataframe\">\n",
       "  <thead>\n",
       "    <tr style=\"text-align: right;\">\n",
       "      <th></th>\n",
       "      <th>Unnamed: 0</th>\n",
       "      <th>Email Text</th>\n",
       "      <th>Email Type</th>\n",
       "      <th>tokens</th>\n",
       "      <th>email_vector</th>\n",
       "      <th>Email Type_Phishing Email</th>\n",
       "    </tr>\n",
       "  </thead>\n",
       "  <tbody>\n",
       "    <tr>\n",
       "      <th>0</th>\n",
       "      <td>0</td>\n",
       "      <td>re : 6 . 1100 , disc : uniformitarianism , re ...</td>\n",
       "      <td>Safe Email</td>\n",
       "      <td>[disc, uniformitarian, sex, lang, dick, hudson...</td>\n",
       "      <td>[-0.6678477, 0.22126657, 0.21499443, 0.0920905...</td>\n",
       "      <td>0.0</td>\n",
       "    </tr>\n",
       "    <tr>\n",
       "      <th>1</th>\n",
       "      <td>1</td>\n",
       "      <td>the other side of * galicismos * * galicismo *...</td>\n",
       "      <td>Safe Email</td>\n",
       "      <td>[side, galicismo, galicismo, spanish, term, na...</td>\n",
       "      <td>[-0.7129134, 0.6111404, 0.38503578, -0.0425917...</td>\n",
       "      <td>0.0</td>\n",
       "    </tr>\n",
       "    <tr>\n",
       "      <th>2</th>\n",
       "      <td>2</td>\n",
       "      <td>re : equistar deal tickets are you still avail...</td>\n",
       "      <td>Safe Email</td>\n",
       "      <td>[equistar, deal, ticket, still, avail, assist,...</td>\n",
       "      <td>[-0.90638566, 0.925917, -0.4976956, 1.7943083,...</td>\n",
       "      <td>0.0</td>\n",
       "    </tr>\n",
       "    <tr>\n",
       "      <th>3</th>\n",
       "      <td>3</td>\n",
       "      <td>\\nHello I am your hot lil horny toy.\\n    I am...</td>\n",
       "      <td>Phishing Email</td>\n",
       "      <td>[hello, hot, lil, horni, toy, one, dream, open...</td>\n",
       "      <td>[-0.4146968, 0.12298537, -0.43686053, 0.212549...</td>\n",
       "      <td>1.0</td>\n",
       "    </tr>\n",
       "    <tr>\n",
       "      <th>4</th>\n",
       "      <td>4</td>\n",
       "      <td>software at incredibly low prices ( 86 % lower...</td>\n",
       "      <td>Phishing Email</td>\n",
       "      <td>[softwar, incred, low, price, lower, draperi, ...</td>\n",
       "      <td>[-0.66229075, 0.42618254, 0.044395894, 0.27359...</td>\n",
       "      <td>1.0</td>\n",
       "    </tr>\n",
       "  </tbody>\n",
       "</table>\n",
       "</div>"
      ],
      "text/plain": [
       "   Unnamed: 0                                         Email Text  \\\n",
       "0           0  re : 6 . 1100 , disc : uniformitarianism , re ...   \n",
       "1           1  the other side of * galicismos * * galicismo *...   \n",
       "2           2  re : equistar deal tickets are you still avail...   \n",
       "3           3  \\nHello I am your hot lil horny toy.\\n    I am...   \n",
       "4           4  software at incredibly low prices ( 86 % lower...   \n",
       "\n",
       "       Email Type                                             tokens  \\\n",
       "0      Safe Email  [disc, uniformitarian, sex, lang, dick, hudson...   \n",
       "1      Safe Email  [side, galicismo, galicismo, spanish, term, na...   \n",
       "2      Safe Email  [equistar, deal, ticket, still, avail, assist,...   \n",
       "3  Phishing Email  [hello, hot, lil, horni, toy, one, dream, open...   \n",
       "4  Phishing Email  [softwar, incred, low, price, lower, draperi, ...   \n",
       "\n",
       "                                        email_vector  \\\n",
       "0  [-0.6678477, 0.22126657, 0.21499443, 0.0920905...   \n",
       "1  [-0.7129134, 0.6111404, 0.38503578, -0.0425917...   \n",
       "2  [-0.90638566, 0.925917, -0.4976956, 1.7943083,...   \n",
       "3  [-0.4146968, 0.12298537, -0.43686053, 0.212549...   \n",
       "4  [-0.66229075, 0.42618254, 0.044395894, 0.27359...   \n",
       "\n",
       "   Email Type_Phishing Email  \n",
       "0                        0.0  \n",
       "1                        0.0  \n",
       "2                        0.0  \n",
       "3                        1.0  \n",
       "4                        1.0  "
      ]
     },
     "execution_count": 21,
     "metadata": {},
     "output_type": "execute_result"
    }
   ],
   "source": [
    "data.head()"
   ]
  },
  {
   "cell_type": "code",
   "execution_count": 22,
   "id": "a7894fec",
   "metadata": {},
   "outputs": [
    {
     "name": "stdout",
     "output_type": "stream",
     "text": [
      "<class 'pandas.core.frame.DataFrame'>\n",
      "RangeIndex: 18650 entries, 0 to 18649\n",
      "Data columns (total 6 columns):\n",
      " #   Column                     Non-Null Count  Dtype  \n",
      "---  ------                     --------------  -----  \n",
      " 0   Unnamed: 0                 18650 non-null  int64  \n",
      " 1   Email Text                 18650 non-null  object \n",
      " 2   Email Type                 18650 non-null  object \n",
      " 3   tokens                     18650 non-null  object \n",
      " 4   email_vector               18650 non-null  object \n",
      " 5   Email Type_Phishing Email  18650 non-null  float64\n",
      "dtypes: float64(1), int64(1), object(4)\n",
      "memory usage: 874.3+ KB\n"
     ]
    }
   ],
   "source": [
    "data.info()"
   ]
  },
  {
   "cell_type": "code",
   "execution_count": 23,
   "id": "4d3d1ba2",
   "metadata": {},
   "outputs": [],
   "source": [
    "data.rename(columns={'email_vector':'Vector Embedding of email','Email Type_Phishing Email':'Email Type-safe-1_phishing-0'},inplace=True)"
   ]
  },
  {
   "cell_type": "code",
   "execution_count": 24,
   "id": "6102764f",
   "metadata": {},
   "outputs": [
    {
     "data": {
      "text/html": [
       "<div>\n",
       "<style scoped>\n",
       "    .dataframe tbody tr th:only-of-type {\n",
       "        vertical-align: middle;\n",
       "    }\n",
       "\n",
       "    .dataframe tbody tr th {\n",
       "        vertical-align: top;\n",
       "    }\n",
       "\n",
       "    .dataframe thead th {\n",
       "        text-align: right;\n",
       "    }\n",
       "</style>\n",
       "<table border=\"1\" class=\"dataframe\">\n",
       "  <thead>\n",
       "    <tr style=\"text-align: right;\">\n",
       "      <th></th>\n",
       "      <th>Unnamed: 0</th>\n",
       "      <th>Email Text</th>\n",
       "      <th>Email Type</th>\n",
       "      <th>tokens</th>\n",
       "      <th>Vector Embedding of email</th>\n",
       "      <th>Email Type-safe-1_phishing-0</th>\n",
       "    </tr>\n",
       "  </thead>\n",
       "  <tbody>\n",
       "    <tr>\n",
       "      <th>0</th>\n",
       "      <td>0</td>\n",
       "      <td>re : 6 . 1100 , disc : uniformitarianism , re ...</td>\n",
       "      <td>Safe Email</td>\n",
       "      <td>[disc, uniformitarian, sex, lang, dick, hudson...</td>\n",
       "      <td>[-0.6678477, 0.22126657, 0.21499443, 0.0920905...</td>\n",
       "      <td>0.0</td>\n",
       "    </tr>\n",
       "    <tr>\n",
       "      <th>1</th>\n",
       "      <td>1</td>\n",
       "      <td>the other side of * galicismos * * galicismo *...</td>\n",
       "      <td>Safe Email</td>\n",
       "      <td>[side, galicismo, galicismo, spanish, term, na...</td>\n",
       "      <td>[-0.7129134, 0.6111404, 0.38503578, -0.0425917...</td>\n",
       "      <td>0.0</td>\n",
       "    </tr>\n",
       "    <tr>\n",
       "      <th>2</th>\n",
       "      <td>2</td>\n",
       "      <td>re : equistar deal tickets are you still avail...</td>\n",
       "      <td>Safe Email</td>\n",
       "      <td>[equistar, deal, ticket, still, avail, assist,...</td>\n",
       "      <td>[-0.90638566, 0.925917, -0.4976956, 1.7943083,...</td>\n",
       "      <td>0.0</td>\n",
       "    </tr>\n",
       "    <tr>\n",
       "      <th>3</th>\n",
       "      <td>3</td>\n",
       "      <td>\\nHello I am your hot lil horny toy.\\n    I am...</td>\n",
       "      <td>Phishing Email</td>\n",
       "      <td>[hello, hot, lil, horni, toy, one, dream, open...</td>\n",
       "      <td>[-0.4146968, 0.12298537, -0.43686053, 0.212549...</td>\n",
       "      <td>1.0</td>\n",
       "    </tr>\n",
       "    <tr>\n",
       "      <th>4</th>\n",
       "      <td>4</td>\n",
       "      <td>software at incredibly low prices ( 86 % lower...</td>\n",
       "      <td>Phishing Email</td>\n",
       "      <td>[softwar, incred, low, price, lower, draperi, ...</td>\n",
       "      <td>[-0.66229075, 0.42618254, 0.044395894, 0.27359...</td>\n",
       "      <td>1.0</td>\n",
       "    </tr>\n",
       "  </tbody>\n",
       "</table>\n",
       "</div>"
      ],
      "text/plain": [
       "   Unnamed: 0                                         Email Text  \\\n",
       "0           0  re : 6 . 1100 , disc : uniformitarianism , re ...   \n",
       "1           1  the other side of * galicismos * * galicismo *...   \n",
       "2           2  re : equistar deal tickets are you still avail...   \n",
       "3           3  \\nHello I am your hot lil horny toy.\\n    I am...   \n",
       "4           4  software at incredibly low prices ( 86 % lower...   \n",
       "\n",
       "       Email Type                                             tokens  \\\n",
       "0      Safe Email  [disc, uniformitarian, sex, lang, dick, hudson...   \n",
       "1      Safe Email  [side, galicismo, galicismo, spanish, term, na...   \n",
       "2      Safe Email  [equistar, deal, ticket, still, avail, assist,...   \n",
       "3  Phishing Email  [hello, hot, lil, horni, toy, one, dream, open...   \n",
       "4  Phishing Email  [softwar, incred, low, price, lower, draperi, ...   \n",
       "\n",
       "                           Vector Embedding of email  \\\n",
       "0  [-0.6678477, 0.22126657, 0.21499443, 0.0920905...   \n",
       "1  [-0.7129134, 0.6111404, 0.38503578, -0.0425917...   \n",
       "2  [-0.90638566, 0.925917, -0.4976956, 1.7943083,...   \n",
       "3  [-0.4146968, 0.12298537, -0.43686053, 0.212549...   \n",
       "4  [-0.66229075, 0.42618254, 0.044395894, 0.27359...   \n",
       "\n",
       "   Email Type-safe-1_phishing-0  \n",
       "0                           0.0  \n",
       "1                           0.0  \n",
       "2                           0.0  \n",
       "3                           1.0  \n",
       "4                           1.0  "
      ]
     },
     "execution_count": 24,
     "metadata": {},
     "output_type": "execute_result"
    }
   ],
   "source": [
    "data.head()"
   ]
  },
  {
   "cell_type": "markdown",
   "id": "8fc4faac",
   "metadata": {},
   "source": [
    "# Feature and Target vector "
   ]
  },
  {
   "cell_type": "code",
   "execution_count": 25,
   "id": "2f087575",
   "metadata": {},
   "outputs": [],
   "source": [
    "Feature = data['Vector Embedding of email']\n",
    "Target=data['Email Type-safe-1_phishing-0']"
   ]
  },
  {
   "cell_type": "markdown",
   "id": "45a55ba7",
   "metadata": {},
   "source": [
    "# Save the feature and targer data"
   ]
  },
  {
   "cell_type": "code",
   "execution_count": 26,
   "id": "898e623f",
   "metadata": {},
   "outputs": [],
   "source": [
    "data.to_csv('Processed_data.csv')"
   ]
  },
  {
   "cell_type": "code",
   "execution_count": 27,
   "id": "330e6178",
   "metadata": {},
   "outputs": [
    {
     "name": "stdout",
     "output_type": "stream",
     "text": [
      "<class 'pandas.core.frame.DataFrame'>\n",
      "RangeIndex: 18650 entries, 0 to 18649\n",
      "Data columns (total 6 columns):\n",
      " #   Column                        Non-Null Count  Dtype  \n",
      "---  ------                        --------------  -----  \n",
      " 0   Unnamed: 0                    18650 non-null  int64  \n",
      " 1   Email Text                    18650 non-null  object \n",
      " 2   Email Type                    18650 non-null  object \n",
      " 3   tokens                        18650 non-null  object \n",
      " 4   Vector Embedding of email     18650 non-null  object \n",
      " 5   Email Type-safe-1_phishing-0  18650 non-null  float64\n",
      "dtypes: float64(1), int64(1), object(4)\n",
      "memory usage: 874.3+ KB\n"
     ]
    }
   ],
   "source": [
    "data.info()"
   ]
  },
  {
   "cell_type": "code",
   "execution_count": 28,
   "id": "812651dd",
   "metadata": {},
   "outputs": [],
   "source": [
    "# train test spilt\n",
    "X_train,X_test,y_train,y_test=train_test_split(Feature,Target,train_size=0.8,shuffle=True)"
   ]
  },
  {
   "cell_type": "code",
   "execution_count": 29,
   "id": "a76c141e",
   "metadata": {},
   "outputs": [
    {
     "data": {
      "text/plain": [
       "(14920,)"
      ]
     },
     "execution_count": 29,
     "metadata": {},
     "output_type": "execute_result"
    }
   ],
   "source": [
    "X_train.shape"
   ]
  },
  {
   "cell_type": "code",
   "execution_count": 30,
   "id": "a0f054ba",
   "metadata": {},
   "outputs": [
    {
     "data": {
      "text/plain": [
       "(3730,)"
      ]
     },
     "execution_count": 30,
     "metadata": {},
     "output_type": "execute_result"
    }
   ],
   "source": [
    "X_test.shape"
   ]
  },
  {
   "cell_type": "code",
   "execution_count": 31,
   "id": "47758233",
   "metadata": {},
   "outputs": [],
   "source": [
    "X_train = np.vstack(X_train)\n",
    "X_test= np.vstack(X_test)\n"
   ]
  },
  {
   "cell_type": "code",
   "execution_count": 32,
   "id": "c11c58ad",
   "metadata": {},
   "outputs": [
    {
     "data": {
      "text/plain": [
       "array([[-0.73934144,  1.65815508,  0.37823188, ..., -1.05790412,\n",
       "        -0.34428424,  0.58607697],\n",
       "       [-0.44345942,  0.40076584,  0.11992031, ..., -1.03830945,\n",
       "         0.10230283,  0.26108736],\n",
       "       [-0.08985421,  0.11782513,  0.13377899, ..., -0.22693452,\n",
       "        -0.01546864,  0.02803038],\n",
       "       ...,\n",
       "       [-0.89855182,  0.98663414,  0.69710547, ..., -0.34088913,\n",
       "         0.83277804,  0.26008883],\n",
       "       [-0.75611758,  0.98667288,  1.08522797, ..., -0.57572919,\n",
       "         0.58420241, -0.21412207],\n",
       "       [-0.07135737,  0.24142891,  0.01019724, ..., -0.42663091,\n",
       "        -0.20971957,  0.05674595]])"
      ]
     },
     "execution_count": 32,
     "metadata": {},
     "output_type": "execute_result"
    }
   ],
   "source": [
    "X_train"
   ]
  },
  {
   "cell_type": "markdown",
   "id": "0931ed81",
   "metadata": {},
   "source": []
  },
  {
   "cell_type": "code",
   "execution_count": 36,
   "id": "71dce786",
   "metadata": {},
   "outputs": [],
   "source": [
    "import pickle\n",
    "def load_model(file):\n",
    "    with open(file,'rb') as f:\n",
    "        model=pickle.load(f)\n",
    "\n",
    "    return model\n",
    "\n",
    "xgmodel=load_model('Final_model\\model.pkl')"
   ]
  },
  {
   "cell_type": "code",
   "execution_count": 47,
   "id": "27014197",
   "metadata": {},
   "outputs": [
    {
     "data": {
      "text/plain": [
       "numpy.ndarray"
      ]
     },
     "execution_count": 47,
     "metadata": {},
     "output_type": "execute_result"
    }
   ],
   "source": [
    "type(X_test[0])"
   ]
  },
  {
   "cell_type": "code",
   "execution_count": 43,
   "id": "3857e07f",
   "metadata": {},
   "outputs": [
    {
     "name": "stdout",
     "output_type": "stream",
     "text": [
      "95.09383378016085 %\n"
     ]
    }
   ],
   "source": [
    "from sklearn.metrics import classification_report\n",
    "y_pred=xgmodel.predict(X_test)\n",
    "report=classification_report(y_test,y_pred,output_dict=True)\n",
    "print(f\"{report['accuracy']*100} %\")"
   ]
  },
  {
   "cell_type": "code",
   "execution_count": 54,
   "id": "f3801488",
   "metadata": {},
   "outputs": [
    {
     "data": {
      "text/plain": [
       "(100,)"
      ]
     },
     "execution_count": 54,
     "metadata": {},
     "output_type": "execute_result"
    }
   ],
   "source": [
    "X_test[0].shape"
   ]
  },
  {
   "cell_type": "markdown",
   "id": "0a7e99e2",
   "metadata": {},
   "source": [
    "# Applying the model on the dataset"
   ]
  },
  {
   "cell_type": "code",
   "execution_count": null,
   "metadata": {},
   "outputs": [
    {
     "name": "stdout",
     "output_type": "stream",
     "text": [
      "\n",
      "DecisionTreeClassifier Accuracy: 0.9282\n",
      "{'0.0': {'precision': 0.9469298245614035, 'recall': 0.9362532523850824, 'f1-score': 0.9415612734409071, 'support': 2306.0}, '1.0': {'precision': 0.8986206896551724, 'recall': 0.9150280898876404, 'f1-score': 0.9067501739735561, 'support': 1424.0}, 'accuracy': 0.9281501340482574, 'macro avg': {'precision': 0.9227752571082879, 'recall': 0.9256406711363614, 'f1-score': 0.9241557237072315, 'support': 3730.0}, 'weighted avg': {'precision': 0.9284868733264241, 'recall': 0.9281501340482574, 'f1-score': 0.9282714595959988, 'support': 3730.0}}\n"
     ]
    },
    {
     "name": "stderr",
     "output_type": "stream",
     "text": [
      "2025/07/27 15:54:34 WARNING mlflow.models.model: `artifact_path` is deprecated. Please use `name` instead.\n",
      "2025/07/27 15:54:46 WARNING mlflow.models.model: Model logged without a signature and input example. Please set `input_example` parameter when logging the model to auto infer the model signature.\n"
     ]
    },
    {
     "name": "stdout",
     "output_type": "stream",
     "text": [
      "--------------------------------------------------\n"
     ]
    },
    {
     "name": "stderr",
     "output_type": "stream",
     "text": [
      "2025/07/27 15:55:06 WARNING mlflow.models.model: `artifact_path` is deprecated. Please use `name` instead.\n"
     ]
    },
    {
     "name": "stdout",
     "output_type": "stream",
     "text": [
      "\n",
      "RandomForestClassifier Accuracy: 0.9633\n",
      "{'0.0': {'precision': 0.9779638607315998, 'recall': 0.9622723330442324, 'f1-score': 0.9700546448087431, 'support': 2306.0}, '1.0': {'precision': 0.9404517453798767, 'recall': 0.9648876404494382, 'f1-score': 0.9525129982668977, 'support': 1424.0}, 'accuracy': 0.9632707774798928, 'macro avg': {'precision': 0.9592078030557383, 'recall': 0.9635799867468353, 'f1-score': 0.9612838215378204, 'support': 3730.0}, 'weighted avg': {'precision': 0.9636428815731939, 'recall': 0.9632707774798928, 'f1-score': 0.9633577802844568, 'support': 3730.0}}\n"
     ]
    },
    {
     "name": "stderr",
     "output_type": "stream",
     "text": [
      "2025/07/27 15:55:12 WARNING mlflow.models.model: Model logged without a signature and input example. Please set `input_example` parameter when logging the model to auto infer the model signature.\n"
     ]
    },
    {
     "name": "stdout",
     "output_type": "stream",
     "text": [
      "--------------------------------------------------\n"
     ]
    },
    {
     "name": "stderr",
     "output_type": "stream",
     "text": [
      "2025/07/27 15:55:16 WARNING mlflow.models.model: `artifact_path` is deprecated. Please use `name` instead.\n"
     ]
    },
    {
     "name": "stdout",
     "output_type": "stream",
     "text": [
      "\n",
      "KNN Accuracy: 0.9539\n",
      "{'0.0': {'precision': 0.9505912162162162, 'recall': 0.9761491760624458, 'f1-score': 0.9632006846384253, 'support': 2306.0}, '1.0': {'precision': 0.959618208516887, 'recall': 0.9178370786516854, 'f1-score': 0.9382627422828428, 'support': 1424.0}, 'accuracy': 0.953887399463807, 'macro avg': {'precision': 0.9551047123665516, 'recall': 0.9469931273570655, 'f1-score': 0.9507317134606341, 'support': 3730.0}, 'weighted avg': {'precision': 0.9540374459846225, 'recall': 0.953887399463807, 'f1-score': 0.953680140425463, 'support': 3730.0}}\n"
     ]
    },
    {
     "name": "stderr",
     "output_type": "stream",
     "text": [
      "2025/07/27 15:55:22 WARNING mlflow.models.model: Model logged without a signature and input example. Please set `input_example` parameter when logging the model to auto infer the model signature.\n"
     ]
    },
    {
     "name": "stdout",
     "output_type": "stream",
     "text": [
      "--------------------------------------------------\n"
     ]
    }
   ],
   "source": [
    "from sklearn.metrics import classification_report\n",
    "import mlflow\n",
    "mlflow.set_experiment(\"First Experiment without hyperparameter-tuning \")\n",
    "mlflow.set_registry_uri('http://127.0.0.1:5000/')\n",
    "\n",
    "ML_models={'DecisionTreeClassifier':DecisionTreeClassifier(),'RandomForestClassifier':RandomForestClassifier(),'KNN':KNeighborsClassifier(n_neighbors=3)}\n",
    "\n",
    "    \n",
    "\n",
    "reports=[]\n",
    "\n",
    "for model_name,model in ML_models.items():\n",
    "    classifier=model\n",
    "    classifier.fit(X_train,y_train)\n",
    "    y_pred=classifier.predict(X_test)\n",
    "    print(f\"\\n{model_name} Accuracy: {accuracy_score(y_test, y_pred):.4f}\")\n",
    "    report=classification_report(y_test, y_pred,output_dict=True)\n",
    "    print(report)\n",
    "    with mlflow.start_run(run_name=f\"Classification model- {model_name}\"):\n",
    "        # mlflow.log_params(params)\n",
    "        mlflow.log_metrics({\n",
    "        'accuracy': report['accuracy'],\n",
    "        'recall_class_0': report['0.0']['recall'],\n",
    "        'recall_class_1': report['1.0']['recall'],\n",
    "        'f1_score_macro': report['macro avg']['f1-score']\n",
    "         })\n",
    "        mlflow.sklearn.log_model(classifier, model_name)  \n",
    "\n",
    "    reports.append(report)\n",
    "    print('-'*50)\n"
   ]
  },
  {
   "cell_type": "code",
   "execution_count": null,
   "id": "9963d29f",
   "metadata": {},
   "outputs": [],
   "source": [
    "from xgboost import XGBClassifier\n",
    "import pandas as pd\n",
    "import numpy as np\n",
    "import mlflow\n",
    "from sklearn.model_selection import train_test_split,GridSearchCV\n",
    "from sklearn.metrics import classification_report\n",
    "from sklearn.tree import DecisionTreeClassifier\n",
    "from sklearn.ensemble import RandomForestClassifier\n",
    "from sklearn.neighbors import KNeighborsClassifier\n",
    "from sklearn.linear_model import LogisticRegression\n",
    "from sklearn.svm import SVC\n",
    "from xgboost import XGBClassifier\n",
    "import mlflow.sklearn"
   ]
  },
  {
   "cell_type": "code",
   "execution_count": null,
   "id": "1ec6bb61",
   "metadata": {},
   "outputs": [],
   "source": [
    "models={\n",
    "    'XGBoost': {\n",
    "        'model': XGBClassifier(use_label_encoder=False, eval_metric='logloss'),\n",
    "        'params': {\n",
    "            'n_estimators': [50, 100],\n",
    "            'max_depth': [3, 5],\n",
    "            'learning_rate': [0.1]\n",
    "        }\n",
    "    },\n",
    "    'RandomForest': {\n",
    "        'model': RandomForestClassifier(),\n",
    "        'params': {\n",
    "            'n_estimators': [50, 100],\n",
    "            'max_depth': [4, 8]\n",
    "        }\n",
    "    },\n",
    "    'SVC': {\n",
    "        'model': SVC(),\n",
    "        'params': {\n",
    "            'C': [0.1, 1],\n",
    "            'kernel': ['linear']\n",
    "        }\n",
    "    },\n",
    "    'Decision_Tree':{\n",
    "        'model':DecisionTreeClassifier(),\n",
    "        'params':{\n",
    "            'max_depth':[5,8],\n",
    "        }\n",
    "    },\n",
    "   'LogisticRegression': {\n",
    "        'model': LogisticRegression(max_iter=1000),\n",
    "        'params': {\n",
    "            'C': [0.01, 0.1, 1],\n",
    "            'penalty': ['l2'],\n",
    "            'solver': ['lbfgs']\n",
    "        }\n",
    "    },\n",
    "    'KNN': {\n",
    "        'model': KNeighborsClassifier(),\n",
    "        'params': {\n",
    "            'n_neighbors': [3, 5, 7],\n",
    "            'weights': ['uniform', 'distance']\n",
    "        }\n",
    "    }\n",
    "}"
   ]
  },
  {
   "cell_type": "code",
   "execution_count": null,
   "id": "6201c53f",
   "metadata": {},
   "outputs": [
    {
     "name": "stderr",
     "output_type": "stream",
     "text": [
      "2025/07/27 16:12:27 INFO mlflow.tracking.fluent: Experiment with name 'Hyper-Parametertuning of Classifier_with_Metrices' does not exist. Creating a new experiment.\n"
     ]
    },
    {
     "name": "stderr",
     "output_type": "stream",
     "text": [
      "2025/07/27 16:12:45 WARNING mlflow.models.model: `artifact_path` is deprecated. Please use `name` instead.\n",
      "2025/07/27 16:12:51 WARNING mlflow.models.model: Model logged without a signature and input example. Please set `input_example` parameter when logging the model to auto infer the model signature.\n"
     ]
    },
    {
     "name": "stdout",
     "output_type": "stream",
     "text": [
      "XGBoost logged in MLflow with accuracy: 0.9576\n"
     ]
    },
    {
     "name": "stderr",
     "output_type": "stream",
     "text": [
      "2025/07/27 16:14:50 WARNING mlflow.models.model: `artifact_path` is deprecated. Please use `name` instead.\n",
      "2025/07/27 16:14:55 WARNING mlflow.models.model: Model logged without a signature and input example. Please set `input_example` parameter when logging the model to auto infer the model signature.\n"
     ]
    },
    {
     "name": "stdout",
     "output_type": "stream",
     "text": [
      "RandomForest logged in MLflow with accuracy: 0.9490\n"
     ]
    },
    {
     "name": "stderr",
     "output_type": "stream",
     "text": [
      "2025/07/27 16:15:40 WARNING mlflow.models.model: `artifact_path` is deprecated. Please use `name` instead.\n",
      "2025/07/27 16:15:46 WARNING mlflow.models.model: Model logged without a signature and input example. Please set `input_example` parameter when logging the model to auto infer the model signature.\n"
     ]
    },
    {
     "name": "stdout",
     "output_type": "stream",
     "text": [
      "SVC logged in MLflow with accuracy: 0.9495\n"
     ]
    },
    {
     "name": "stderr",
     "output_type": "stream",
     "text": [
      "2025/07/27 16:16:00 WARNING mlflow.models.model: `artifact_path` is deprecated. Please use `name` instead.\n",
      "2025/07/27 16:16:06 WARNING mlflow.models.model: Model logged without a signature and input example. Please set `input_example` parameter when logging the model to auto infer the model signature.\n"
     ]
    },
    {
     "name": "stdout",
     "output_type": "stream",
     "text": [
      "Decision_Tree logged in MLflow with accuracy: 0.9180\n"
     ]
    },
    {
     "name": "stderr",
     "output_type": "stream",
     "text": [
      "2025/07/27 16:16:08 WARNING mlflow.models.model: `artifact_path` is deprecated. Please use `name` instead.\n",
      "2025/07/27 16:16:13 WARNING mlflow.models.model: Model logged without a signature and input example. Please set `input_example` parameter when logging the model to auto infer the model signature.\n"
     ]
    },
    {
     "name": "stdout",
     "output_type": "stream",
     "text": [
      "LogisticRegression logged in MLflow with accuracy: 0.9497\n"
     ]
    },
    {
     "name": "stderr",
     "output_type": "stream",
     "text": [
      "2025/07/27 16:16:22 WARNING mlflow.models.model: `artifact_path` is deprecated. Please use `name` instead.\n",
      "2025/07/27 16:16:27 WARNING mlflow.models.model: Model logged without a signature and input example. Please set `input_example` parameter when logging the model to auto infer the model signature.\n"
     ]
    },
    {
     "name": "stdout",
     "output_type": "stream",
     "text": [
      "KNN logged in MLflow with accuracy: 0.9574\n"
     ]
    }
   ],
   "source": [
    "\n",
    "mlflow.set_experiment('Hyper-Parametertuning of Classifier_with_Metrices')\n",
    "mlflow.set_registry_uri('http://127.0.0.1:5000/')\n",
    "\n",
    "for model_name,clf_model in models.items():\n",
    "    with mlflow.start_run(run_name=model_name+' Hyperparameter tuning'):\n",
    "        classifier=GridSearchCV(clf_model['model'],clf_model['params'],cv=5,scoring='accuracy')\n",
    "        classifier.fit(X_train,y_train)\n",
    "        y_pred=classifier.predict(X_test)\n",
    "        report=classification_report(y_test,y_pred,output_dict=True)\n",
    "        mlflow.log_param(\"model_name\",model_name)\n",
    "\n",
    "        #log parameters\n",
    "        for param_name, param_value in classifier.best_params_.items():\n",
    "            mlflow.log_param(param_name,param_value)\n",
    "        \n",
    "        mlflow.log_metrics({\n",
    "        'accuracy': report['accuracy'],\n",
    "        'recall_class_0': report['0.0']['recall'],\n",
    "        'recall_class_1': report['1.0']['recall'],\n",
    "        'f1_score_macro': report['macro avg']['f1-score']\n",
    "         })\n",
    "        # Log best model\n",
    "        mlflow.sklearn.log_model(classifier.best_estimator_, model_name + \"_model\")\n",
    "        \n",
    "\n",
    "        print(f\"{model_name} logged in MLflow with accuracy: {classifier.best_score_:.4f}\")\n",
    "\n"
   ]
  },
  {
   "cell_type": "code",
   "execution_count": null,
   "id": "611a0fa5",
   "metadata": {},
   "outputs": [],
   "source": []
  },
  {
   "cell_type": "code",
   "execution_count": null,
   "id": "15fd8215",
   "metadata": {},
   "outputs": [],
   "source": []
  },
  {
   "cell_type": "code",
   "execution_count": null,
   "id": "07233453",
   "metadata": {},
   "outputs": [],
   "source": []
  }
 ],
 "metadata": {
  "kernelspec": {
   "display_name": "deploy",
   "language": "python",
   "name": "python3"
  },
  "language_info": {
   "codemirror_mode": {
    "name": "ipython",
    "version": 3
   },
   "file_extension": ".py",
   "mimetype": "text/x-python",
   "name": "python",
   "nbconvert_exporter": "python",
   "pygments_lexer": "ipython3",
   "version": "3.11.1"
  }
 },
 "nbformat": 4,
 "nbformat_minor": 5
}
